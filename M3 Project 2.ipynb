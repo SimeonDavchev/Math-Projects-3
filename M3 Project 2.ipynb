{
 "cells": [
  {
   "cell_type": "markdown",
   "metadata": {
    "deletable": false,
    "editable": false,
    "nbgrader": {
     "cell_type": "markdown",
     "checksum": "7407018013ccd4b8d7f7bad12636978e",
     "grade": false,
     "grade_id": "cell-1934b59a9e99bb1b",
     "locked": true,
     "schema_version": 3,
     "solution": false,
     "task": false
    }
   },
   "source": [
    "# Homework Assignment 2: QR Factorization\n",
    "\n",
    "One algorithmic idea in numerical linear algebra is more important ([one of the 10 most important algorithms of the 20th century](https://archive.siam.org/pdf/news/637.pdf)) than all the others: QR factorization. This decomposition plays a crucial role in many problems:\n",
    "* Computing orthogonal bases in a linear space.\n",
    "* The preprocessing step for the singular value decomposition (principal component analysis).\n",
    "* The computation of eigenvectors and eigenvalues (covered in next week's lectures).\n",
    "* Methods for least squares problems (overdetermined systems of linear equations).\n",
    "\n",
    "Before tackling the task of implementing this method, let's first introduce the Python library that provides all the necessary linear algebra functionality."
   ]
  },
  {
   "cell_type": "code",
   "execution_count": 1,
   "metadata": {},
   "outputs": [],
   "source": [
    "import numpy as np"
   ]
  },
  {
   "cell_type": "markdown",
   "metadata": {
    "deletable": false,
    "editable": false,
    "nbgrader": {
     "cell_type": "markdown",
     "checksum": "7e6e63737348c09f1f96a73592a38bc0",
     "grade": false,
     "grade_id": "cell-87e35724114248aa",
     "locked": true,
     "schema_version": 3,
     "solution": false,
     "task": false
    }
   },
   "source": [
    "## Problem 1: Getting started with arrays (2 points)\n",
    "\n",
    "Implement the two functions `checkerboard` and `transpose` below, see instructions in the corresponding docstrings. \n",
    "\n",
    "**IMPORTANT**: DO NOT USE THE BUILT-IN METHODS arr.transpose()  OR arr.T OR THE FUNCTION np.transpose(arr). CREATE IT YOURSELF FROM SCRATCH!"
   ]
  },
  {
   "cell_type": "code",
   "execution_count": 2,
   "metadata": {
    "deletable": false,
    "nbgrader": {
     "cell_type": "code",
     "checksum": "e4c6b3bda192eab7cc8da69595f77ef8",
     "grade": false,
     "grade_id": "cell-62d43d5495d83e9f",
     "locked": false,
     "schema_version": 3,
     "solution": true,
     "task": false
    }
   },
   "outputs": [],
   "source": [
    "\n",
    "def checkerboard(n):\n",
    "    \"\"\"\n",
    "    Returns a two dimensional n by n checkerboard array C\n",
    "    that alternates between 0's and 1's, starting with a 0\n",
    "    in the top-left corner. \n",
    "    \n",
    "    Example\n",
    "    ----------\n",
    "    checkerboard(4) =\n",
    "        [[0 1 0 1]\n",
    "         [1 0 1 0]\n",
    "         [0 1 0 1]\n",
    "         [1 0 1 0]]\n",
    "    \n",
    "    Parameters\n",
    "    ----------\n",
    "        n (int): Order of the n by n array\n",
    "        \n",
    "    Returns\n",
    "    -------\n",
    "        C (ndarray): Array filled with a checkerboard pattern\n",
    "    \n",
    "    \"\"\"\n",
    "    \n",
    "    # YOUR CODE HERE\n",
    "    import numpy as np\n",
    "    C=np.ones((n,n),dtype=int)\n",
    "    for i in range(0,n):\n",
    "        for j in range(0,n):\n",
    "            if (i+j)%2==0:\n",
    "                C[i,j]=0\n",
    "    \n",
    "    return(C)\n",
    "\n",
    "    \n",
    "    \n",
    "def transpose(arr):\n",
    "    \"\"\"\n",
    "    Returns the transpose of a two dimensional array arr \n",
    "    \n",
    "    Parameters\n",
    "    ----------\n",
    "        arr (ndarray): Any arbitrary two-dimensional array\n",
    "        \n",
    "    Returns\n",
    "    -------\n",
    "        arr_T (ndarray): Two-dimensional array arr transposed\n",
    "\n",
    "    \"\"\"\n",
    "    \n",
    "    # YOUR CODE HERE\n",
    "    n_r,n_c=arr.shape\n",
    "\n",
    "    arr_new=np.zeros((n_c,n_r),dtype=int)\n",
    "    for i in range(0,n_r):\n",
    "        for j in range(0,n_c):\n",
    "            arr_new[j,i]=arr[i,j]\n",
    "    \n",
    "    return(arr_new)\n",
    "    "
   ]
  },
  {
   "cell_type": "code",
   "execution_count": 3,
   "metadata": {},
   "outputs": [
    {
     "name": "stdout",
     "output_type": "stream",
     "text": [
      "[[0 1 0 1 0]\n",
      " [1 0 1 0 1]\n",
      " [0 1 0 1 0]\n",
      " [1 0 1 0 1]\n",
      " [0 1 0 1 0]] \n",
      "\n",
      "[[1 4 7]\n",
      " [2 5 8]\n",
      " [3 6 9]] \n",
      "\n"
     ]
    }
   ],
   "source": [
    "# Test case\n",
    "C = checkerboard(5)\n",
    "print(C, \"\\n\")\n",
    "\n",
    "arr = np.array([[1, 2, 3], \n",
    "                [4, 5, 6], \n",
    "                [7, 8, 9]])\n",
    "print(transpose(arr), \"\\n\")\n"
   ]
  },
  {
   "cell_type": "markdown",
   "metadata": {
    "deletable": false,
    "editable": false,
    "nbgrader": {
     "cell_type": "markdown",
     "checksum": "783b85777b3fbfe7f0042e4e81555876",
     "grade": false,
     "grade_id": "cell-1be3cf2f2c860304",
     "locked": true,
     "schema_version": 3,
     "solution": false,
     "task": false
    }
   },
   "source": [
    "Expected output:\n",
    "\n",
    "    [[0 1 0 1 0]\n",
    "     [1 0 1 0 1]\n",
    "     [0 1 0 1 0]\n",
    "     [1 0 1 0 1]\n",
    "     [0 1 0 1 0]]\n",
    "     \n",
    "    [[1 4 7]\n",
    "     [2 5 8]\n",
    "     [3 6 9]] "
   ]
  },
  {
   "cell_type": "code",
   "execution_count": 4,
   "metadata": {
    "deletable": false,
    "editable": false,
    "nbgrader": {
     "cell_type": "code",
     "checksum": "4c8857af896bc531931fda77841f2c60",
     "grade": true,
     "grade_id": "cell-2127e421d4c34320",
     "locked": true,
     "points": 1,
     "schema_version": 3,
     "solution": false,
     "task": false
    }
   },
   "outputs": [],
   "source": [
    "# AUTOGRADING for checkerboard\n",
    "C = [[0, 1, 0, 1, 0],\n",
    "     [1, 0, 1, 0, 1],\n",
    "     [0, 1, 0, 1, 0],\n",
    "     [1, 0, 1, 0, 1],\n",
    "     [0, 1, 0, 1, 0]] \n",
    "assert np.allclose(C, checkerboard(5))\n"
   ]
  },
  {
   "cell_type": "code",
   "execution_count": 5,
   "metadata": {
    "deletable": false,
    "editable": false,
    "nbgrader": {
     "cell_type": "code",
     "checksum": "a194f47c9bafc54d699171fedc7b346f",
     "grade": true,
     "grade_id": "cell-b5374834267e445b",
     "locked": true,
     "points": 1,
     "schema_version": 3,
     "solution": false,
     "task": false
    }
   },
   "outputs": [],
   "source": [
    "# AUTOGRADING for transpose\n",
    "arr = arr = np.array([[1, 2, 3], \n",
    "                      [4, 5, 6], \n",
    "                      [7, 8, 9]])\n",
    "T = arr.transpose()\n",
    "assert np.allclose(T, transpose(arr))\n",
    "\n",
    "arr2D = np.arange(1,25).reshape(4,6)\n",
    "T = arr2D.transpose()\n",
    "assert np.allclose(T, transpose(arr2D))\n",
    "\n",
    "import inspect\n",
    "sig = inspect.signature(transpose)       # get the signature from the function \n",
    "source = inspect.getsource(transpose)    # get the source from the function (as a string! Wooow!)\n",
    "\n",
    "assert not \"np.transpose\" in source\n",
    "assert not \"arr.transpose\" in source\n",
    "assert not \"arr.T\" in source"
   ]
  },
  {
   "cell_type": "markdown",
   "metadata": {
    "deletable": false,
    "editable": false,
    "nbgrader": {
     "cell_type": "markdown",
     "checksum": "c27a1e844340cb7e430a5e29c9d719c7",
     "grade": false,
     "grade_id": "cell-0b756a284e5ee41d",
     "locked": true,
     "schema_version": 3,
     "solution": false,
     "task": false
    }
   },
   "source": [
    "## Problem 2: (Classical) Gram-Schmidt Orthogonalization (3 points)\n",
    "\n",
    "Implement the described Gram-Schmidt algorithm as a function `gram_schmidt_qr` below that takes a rectangular array $A$ and outputs $Q$ and $R$. \n",
    "\n",
    "**IMPORTANT**: Do not use any built-in QR functions like `np.linalg.qr` or `scipy.lingalg.qr`. These will give different results anyway as these use a different numerical scheme. \n",
    "\n",
    "**HINT**: The following functions for vectors might be useful: `np.linalg.norm` to compute the norm of a 1-D array and `np.inner` to compute the regular dot product between two 1-D arrays."
   ]
  },
  {
   "cell_type": "code",
   "execution_count": 6,
   "metadata": {
    "deletable": false,
    "nbgrader": {
     "cell_type": "code",
     "checksum": "fa95cae7a19466bf908d2d99750c0f24",
     "grade": false,
     "grade_id": "cell-5b605d5073bf6422",
     "locked": false,
     "schema_version": 3,
     "solution": true,
     "task": false
    }
   },
   "outputs": [],
   "source": [
    "\n",
    "def gram_schmidt_qr(A):\n",
    "    \"\"\"\n",
    "    Computes the QR factorization of a matrix A with linearly independent columns\n",
    "    by means of the classical Gram-Schmidt process, where Q is an orthogonal matrix \n",
    "    and R is upper-triangular with positive entries on its diagonal. \n",
    "    \n",
    "    Parameters\n",
    "    ----------\n",
    "        A (ndarray): A two-dimensional array of size n by m with n >= m\n",
    "            whose columns are linearly independent\n",
    "    \n",
    "    Returns\n",
    "    -------\n",
    "        Q (ndarray): A two-dimensional array of size n by m\n",
    "        R (ndarray): A two-dimensional array of size m by m\n",
    "        \n",
    "    \"\"\"\n",
    "    \n",
    "    n, m = A.shape\n",
    "    Q = np.zeros((n,m))\n",
    "    R = np.zeros((m,m))\n",
    "    \n",
    "    # YOUR CODE HERE\n",
    "    R[0,0]=np.linalg.norm(A[:,0])\n",
    "    Q[:,0]=A[:,0]/R[0,0]\n",
    "    for j in range(1,m):\n",
    "        for i in range(j):\n",
    "            R[i,j]=np.inner(A[:,j],Q[:,i])\n",
    "        \n",
    "        s=0\n",
    "        for i in range(j):\n",
    "            s+=R[i,j]*Q[:,i]\n",
    "        perp_v_j=A[:,j]-s\n",
    "        R[j,j]=np.linalg.norm(perp_v_j)\n",
    "        Q[:,j]=perp_v_j/R[j,j]\n",
    "    \n",
    "    return Q, R\n"
   ]
  },
  {
   "cell_type": "code",
   "execution_count": 7,
   "metadata": {},
   "outputs": [
    {
     "name": "stdout",
     "output_type": "stream",
     "text": [
      "[[ 0.66666667 -0.66666667]\n",
      " [ 0.33333333  0.66666667]\n",
      " [-0.66666667 -0.33333333]] \n",
      "\n",
      "[[3. 9.]\n",
      " [0. 6.]]\n"
     ]
    }
   ],
   "source": [
    "# Test case I\n",
    "np.set_printoptions(suppress=True) # Prints nicer numbers, you may ignore this\n",
    "\n",
    "A = np.array([[2,2], [1,7], [-2, -8]])\n",
    "Q, R = gram_schmidt_qr(A)\n",
    "print(Q, \"\\n\")\n",
    "print(R)"
   ]
  },
  {
   "cell_type": "markdown",
   "metadata": {
    "deletable": false,
    "editable": false,
    "nbgrader": {
     "cell_type": "markdown",
     "checksum": "1f1d5fd5ba7bcfed99d80c1611fe37b1",
     "grade": false,
     "grade_id": "cell-f57106649aec713f",
     "locked": true,
     "schema_version": 3,
     "solution": false,
     "task": false
    }
   },
   "source": [
    "Expected output:\n",
    "\n",
    "    [[ 0.66666667 -0.66666667]\n",
    "     [ 0.33333333  0.66666667]\n",
    "     [-0.66666667 -0.33333333]]\n",
    "     \n",
    "    [[3. 9.]\n",
    "     [0. 6.]]"
   ]
  },
  {
   "cell_type": "code",
   "execution_count": 8,
   "metadata": {},
   "outputs": [
    {
     "name": "stdout",
     "output_type": "stream",
     "text": [
      "[[-0.5  0.5  0.5]\n",
      " [ 0.5  0.5 -0.5]\n",
      " [ 0.5  0.5  0.5]\n",
      " [-0.5  0.5 -0.5]] \n",
      "\n",
      "[[ 2. -5.  2.]\n",
      " [ 0.  3. -2.]\n",
      " [ 0.  0.  2.]]\n"
     ]
    }
   ],
   "source": [
    "# Test case II\n",
    "B = np.array([[-1, 4, -1], [1, -1, -1], [1, -1, 1], [-1, 4, -3]])\n",
    "Q, R = gram_schmidt_qr(B)\n",
    "print(Q, \"\\n\")\n",
    "print(R)"
   ]
  },
  {
   "cell_type": "markdown",
   "metadata": {
    "deletable": false,
    "editable": false,
    "nbgrader": {
     "cell_type": "markdown",
     "checksum": "3da7e17e77a180ded754ea805886a869",
     "grade": false,
     "grade_id": "cell-c4365bd221da24cd",
     "locked": true,
     "schema_version": 3,
     "solution": false,
     "task": false
    }
   },
   "source": [
    "Expected output:\n",
    "\n",
    "    [[-0.5  0.5  0.5]\n",
    "     [ 0.5  0.5 -0.5]\n",
    "     [ 0.5  0.5  0.5]\n",
    "     [-0.5  0.5 -0.5]]\n",
    "     \n",
    "    [[ 2. -5.  2.]\n",
    "     [ 0.  3. -2.]\n",
    "     [ 0.  0.  2.]]"
   ]
  },
  {
   "cell_type": "code",
   "execution_count": 9,
   "metadata": {
    "deletable": false,
    "editable": false,
    "nbgrader": {
     "cell_type": "code",
     "checksum": "e9e73b8215cbd474e155971bd0519f8b",
     "grade": true,
     "grade_id": "cell-d5d9c67e49709725",
     "locked": true,
     "points": 3,
     "schema_version": 3,
     "solution": false,
     "task": false
    }
   },
   "outputs": [],
   "source": [
    "# AUTOGRADER\n",
    "A = np.array([[2,2], [1,7], [-2, -8]])\n",
    "Q, R = gram_schmidt_qr(A)\n",
    "Q_exact, R_exact = 1/3*np.array([[2, -2], [1, 2], [-2, -1]]), np.array([[3, 9], [0, 6]])\n",
    "\n",
    "assert np.allclose(Q, Q_exact)\n",
    "assert np.allclose(R, R_exact)\n"
   ]
  },
  {
   "cell_type": "markdown",
   "metadata": {
    "deletable": false,
    "editable": false,
    "nbgrader": {
     "cell_type": "markdown",
     "checksum": "87a10595dfc088b6793396280c649075",
     "grade": false,
     "grade_id": "cell-bf1a45aec0d00a98",
     "locked": true,
     "schema_version": 3,
     "solution": false,
     "task": false
    }
   },
   "source": [
    "## Problem 3: Householder QR Factorization (5 = 2 + 3 points)\n",
    "\n",
    "Implement both the functions `householder_reflector` and `householder_qr` below. \n",
    "\n",
    "**Hint**: The function [`np.outer`](https://numpy.org/doc/stable/reference/generated/numpy.outer.html) might be useful to compute $v v^T$ when we represent $v$ as a 1 dimensional array. The function [`np.linalg.norm`](https://numpy.org/doc/stable/reference/generated/numpy.linalg.norm.html) is useful to compute the norm of a vector. The function [`np.inner`](https://numpy.org/doc/stable/reference/generated/numpy.inner.html) is useful to compute the dot product of two vectors. \n",
    "\n",
    "You can multiply two 2 dimensional arrays (i.e. matrices) $A$ and $B$ by `A @ B` or by `np.matmul(A,B)`. You can compute the inverse of a matrix by [`np.lingalg.inv`](https://numpy.org/doc/stable/reference/generated/numpy.linalg.inv.html)."
   ]
  },
  {
   "cell_type": "code",
   "execution_count": 10,
   "metadata": {
    "deletable": false,
    "nbgrader": {
     "cell_type": "code",
     "checksum": "ad37a71a85c18301f766f6a95b589c39",
     "grade": false,
     "grade_id": "cell-8a9a226fce083228",
     "locked": false,
     "schema_version": 3,
     "solution": true,
     "task": false
    }
   },
   "outputs": [],
   "source": [
    "\n",
    "def sign(x):\n",
    "    \"\"\"\n",
    "    To be used in householder_qr below in the computation of\n",
    "        v = sign(x) * norm(x) * e_1 + x\n",
    "    \"\"\"\n",
    "    if(x >= 0):\n",
    "        return(1)\n",
    "    else:\n",
    "        return(-1)\n",
    "\n",
    "def householder_reflector(v, k, n):\n",
    "    \"\"\"\n",
    "    Returns the orthogonal n by n Householder reflector Q_k as described by equation (1) above,\n",
    "    corresponding to the hyperplane determined by the vector v.\n",
    "    \n",
    "    Parameters\n",
    "    ----------\n",
    "        v (ndarray): A 1 dimensional array of length n-k+1. \n",
    "        k (int): Denotes the required Householder reflector\n",
    "                 BEWARE THAT PYTHON INDEXING STARTS AT ZERO,\n",
    "                 THIS MIGHT BE CONFUSING WITH THE WAY Q_K IS\n",
    "                 NUMBERED.\n",
    "        n (int): Number of rows and columns of Q_k\n",
    "    \n",
    "    Returns\n",
    "    -------\n",
    "        Q_k (ndarray): A 2 dimensional n by n array. \n",
    "    \"\"\"\n",
    "    \n",
    "    # YOUR CODE HERE\n",
    "    \n",
    "    v_t=np.transpose(v)\n",
    "    \n",
    "    F=np.eye(n-k+1)-2*(np.outer(v,v_t))/(np.matmul(v_t,v))\n",
    "    Q_k=np.eye(n)\n",
    "    Q_k[(k-1):n,(k-1):n]=F\n",
    "    return(Q_k)\n",
    "    \n",
    "\n",
    "    \n",
    "def householder_qr(A):\n",
    "    \"\"\"\n",
    "    Computes a QR factorization of a matrix A by means of Householder\n",
    "    reflectors, where Q is an orthogonal matrix and R is upper-triangular. \n",
    "    \n",
    "    Parameters\n",
    "    ----------\n",
    "        A (ndarray): A two-dimensional array of size n by m with n >= m\n",
    "            whose columns are linearly independent\n",
    "    \n",
    "    Returns\n",
    "    -------\n",
    "        Q (ndarray): A two-dimensional array of size n by n\n",
    "        R (ndarray): A two-dimensional array of size n by m\n",
    "    \n",
    "    \"\"\"\n",
    "    \n",
    "    # YOUR CODE HERE\n",
    "    n,m= A.shape\n",
    "    A_n=A\n",
    "    Q_list=[]\n",
    "    for k in range(m):\n",
    "        x=A_n[k:,k]\n",
    "        v=np.concatenate(([sign(x[0])*np.linalg.norm(x)],np.zeros(n-k-1)))+x\n",
    "        Q_k=householder_reflector(v,k+1,n)\n",
    "        A_n=np.matmul(Q_k,A_n)# this is the rolling product on the left,eventually =R\n",
    "        Q_list.append(np.transpose(Q_k))#this is a list to calc the Q that we need \n",
    "\n",
    "    Q_final=Q_list[m-1] # now we need to reverse and multiply to get Q \n",
    "    for k in range(m-1):\n",
    "        Q_final=np.matmul(Q_list[m-2-k],Q_final)\n",
    "\n",
    "    return(Q_final,A_n)\n",
    "    "
   ]
  },
  {
   "cell_type": "code",
   "execution_count": 11,
   "metadata": {},
   "outputs": [
    {
     "name": "stdout",
     "output_type": "stream",
     "text": [
      "[[ 1.   0.   0. ]\n",
      " [ 0.  -0.8  0.6]\n",
      " [ 0.   0.6  0.8]]\n"
     ]
    }
   ],
   "source": [
    "# Test case for householder_reflector\n",
    "v2 = np.array([10.8, -3.6])\n",
    "Q_2 = householder_reflector(v2, 2, 3)\n",
    "print(Q_2)"
   ]
  },
  {
   "cell_type": "code",
   "execution_count": 12,
   "metadata": {},
   "outputs": [
    {
     "name": "stdout",
     "output_type": "stream",
     "text": [
      "[[-0.66666667  0.66666667  0.33333333]\n",
      " [-0.33333333 -0.66666667  0.66666667]\n",
      " [ 0.66666667  0.33333333  0.66666667]] \n",
      "\n",
      "[[-3. -9.]\n",
      " [-0. -6.]\n",
      " [-0.  0.]]\n"
     ]
    }
   ],
   "source": [
    "# Test case for householder_qr\n",
    "np.set_printoptions(suppress=True) # Prints nicer numbers, you may ignore this\n",
    "\n",
    "A = np.array([[2,2], [1,7], [-2, -8]])\n",
    "Q, R = householder_qr(A)\n",
    "print(Q, \"\\n\")\n",
    "print(R)"
   ]
  },
  {
   "cell_type": "markdown",
   "metadata": {
    "deletable": false,
    "editable": false,
    "nbgrader": {
     "cell_type": "markdown",
     "checksum": "ee76c890382b6782f13f9ecc9a28cb6c",
     "grade": false,
     "grade_id": "cell-f23606159gjx538k",
     "locked": true,
     "schema_version": 3,
     "solution": false,
     "task": false
    }
   },
   "source": [
    "Expected output:\n",
    "\n",
    "    [[-0.66666667  0.66666667  0.33333333]\n",
    "     [-0.33333333 -0.66666667  0.66666667]\n",
    "     [ 0.66666667  0.33333333  0.66666667]]\n",
    "     \n",
    "    [[-3. -9.]\n",
    "     [-0. -6.]\n",
    "     [-0.  0.]]"
   ]
  },
  {
   "cell_type": "code",
   "execution_count": 13,
   "metadata": {},
   "outputs": [
    {
     "name": "stdout",
     "output_type": "stream",
     "text": [
      "[[-0.5 -0.5 -0.5 -0.5]\n",
      " [ 0.5 -0.5  0.5 -0.5]\n",
      " [ 0.5 -0.5 -0.5  0.5]\n",
      " [-0.5 -0.5  0.5  0.5]] \n",
      "\n",
      "[[ 2. -5.  2.]\n",
      " [-0. -3.  2.]\n",
      " [-0. -0. -2.]\n",
      " [-0.  0.  0.]]\n"
     ]
    }
   ],
   "source": [
    "# Test case II\n",
    "B = np.array([[-1, 4, -1], [1, -1, -1], [1, -1, 1], [-1, 4, -3]])\n",
    "Q, R = householder_qr(B)\n",
    "print(Q, \"\\n\")\n",
    "print(R)"
   ]
  },
  {
   "cell_type": "markdown",
   "metadata": {
    "deletable": false,
    "editable": false,
    "nbgrader": {
     "cell_type": "markdown",
     "checksum": "efba98501c94e02190a30f6cd0b79ce1",
     "grade": false,
     "grade_id": "cell-c4715ed289da04kv",
     "locked": true,
     "schema_version": 3,
     "solution": false,
     "task": false
    }
   },
   "source": [
    "Expected output:\n",
    "\n",
    "    [[-0.5 -0.5 -0.5 -0.5]\n",
    "     [ 0.5 -0.5  0.5 -0.5]\n",
    "     [ 0.5 -0.5 -0.5  0.5]\n",
    "     [-0.5 -0.5  0.5  0.5]]\n",
    "     \n",
    "    [[ 2. -5.  2.]\n",
    "     [ 0. -3.  2.]\n",
    "     [ 0.  0. -2.]\n",
    "     [ 0. -0.  0.]]"
   ]
  },
  {
   "cell_type": "code",
   "execution_count": 14,
   "metadata": {
    "deletable": false,
    "editable": false,
    "nbgrader": {
     "cell_type": "code",
     "checksum": "3dcabbdddbeeb167c649900448882ecb",
     "grade": true,
     "grade_id": "cell-edb7ddd2e9b3151a",
     "locked": true,
     "points": 2,
     "schema_version": 3,
     "solution": false,
     "task": false
    }
   },
   "outputs": [],
   "source": [
    "# AUTOGRADER for householder_reflector\n",
    "v1 = np.array([5, 1, -2])\n",
    "Q_1 = householder_reflector(v1, 1, 3)\n",
    "assert np.allclose(Q_1, 1/15 * np.array([[-10, -5, 10], [-5, 14, 2], [10, 2, 11]]))\n",
    "\n",
    "v2 = np.array([10.8, -3.6])\n",
    "Q_2 = householder_reflector(v2, 2, 3)\n",
    "assert np.allclose(Q_2, 1/5 * np.array([[5, 0, 0], [0, -4, 3], [0, 3, 4]]))"
   ]
  },
  {
   "cell_type": "code",
   "execution_count": 15,
   "metadata": {
    "deletable": false,
    "editable": false,
    "nbgrader": {
     "cell_type": "code",
     "checksum": "a395c060f05e8103e3a85fa11d2a9e75",
     "grade": true,
     "grade_id": "cell-d8d9e67e40002561",
     "locked": true,
     "points": 3,
     "schema_version": 3,
     "solution": false,
     "task": false
    }
   },
   "outputs": [],
   "source": [
    "# AUTOGRADER for householder_qr\n",
    "A = np.array([[2,2], [1,7], [-2, -8]])\n",
    "Q, R = householder_qr(A)\n",
    "Q_exact, R_exact = 1/3*np.array([[-2, 2, 1], [-1, -2, 2], [2, 1, 2]]), np.array([[-3, -9], [0, -6], [0, 0]])\n",
    "\n",
    "assert np.allclose(Q, Q_exact)\n",
    "assert np.allclose(R, R_exact)\n"
   ]
  }
 ],
 "metadata": {
  "kernelspec": {
   "display_name": "Python 3.9.12 ('base')",
   "language": "python",
   "name": "python3"
  },
  "language_info": {
   "codemirror_mode": {
    "name": "ipython",
    "version": 3
   },
   "file_extension": ".py",
   "mimetype": "text/x-python",
   "name": "python",
   "nbconvert_exporter": "python",
   "pygments_lexer": "ipython3",
   "version": "3.9.12"
  },
  "vscode": {
   "interpreter": {
    "hash": "b68ca19c0df0760c1787e20c3f0dd1e5f78c535cd246ff2eb4732394cfca7b12"
   }
  }
 },
 "nbformat": 4,
 "nbformat_minor": 4
}
