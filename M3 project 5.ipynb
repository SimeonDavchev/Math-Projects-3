{
 "cells": [
  {
   "cell_type": "markdown",
   "metadata": {
    "deletable": false,
    "editable": false,
    "nbgrader": {
     "cell_type": "markdown",
     "checksum": "0b116e4697b77cc4b3b97628b0304bda",
     "grade": false,
     "grade_id": "cell-8f2a4454577125a0",
     "locked": true,
     "schema_version": 3,
     "solution": false,
     "task": false
    }
   },
   "source": [
    "# Homework Assignment 5: Approximating $\\pi$\n",
    "\n",
    "In the summer of 2021, researchers at the Swiss university Fachhochschule Graubünden broke the world record of the most calculated digits of $\\pi$, the mathematical constant that describes the ratio of a circle's circumference to its diameter. Usually, when we talk about pi, we talk about the number $3.14$ (or $3.1415$ if you're fancy), but because its decimals never end, nor do they settle into a pattern, pi's digits go on forever. The researchers reached a whopping 62.8 trillion digits using a supercomputer. In comparison, in 1874, William Shanks calculated the number of pi to 707 decimal places, which took him 15 years to do so! \n",
    "\n",
    "There are many ways to calculate the digits of $\\pi$ - you can use random sampling, geometry, calculus, number theory, etc. But why do we care? If you give me the first 39 digits of $\\pi$, I can tell you the width of the \n",
    "known universe within one hydrogen atom. Do we really need 62.8 trillion? \n",
    "\n",
    "Well, no, probably not. But that doesn't mean this isn't valuable. To generate these approximations, we use many important tools from mathematics, computer science, and computer engineering. You need to deal with questions about the accuracy of floating point arithmetic, questions of estimations and error bounds, and questions concerning optimization. All of these are valuable, even if the other 62,799,999,999,961 digits aren't. \n",
    "\n",
    "As a reference, here are the first 100 decimals of $\\pi$:\n",
    "\n",
    "    3.1415926535 8979323846 2643383279 5028841971 6939937510 \n",
    "      5820974944 5923078164 0628620899 8628034825 3421170679"
   ]
  },
  {
   "cell_type": "markdown",
   "metadata": {
    "deletable": false,
    "editable": false,
    "nbgrader": {
     "cell_type": "markdown",
     "checksum": "6a0bb7e4ce08d64a61fd9ad22ca16960",
     "grade": false,
     "grade_id": "cell-76e9b451c17f87a5",
     "locked": true,
     "schema_version": 3,
     "solution": false,
     "task": false
    }
   },
   "source": [
    "Next we generate a large number of random (uniformly distributed) points within the square and count how many fall inside the enclosed circle. The probability of landing inside the circle is the ratio of the area of the circle over the total area of the square. Since the area of the circle is $A = \\pi r^2 = \\pi$ and the total area of the square is $A = 2^2 = 4$, the odds are $\\pi/4$.\n",
    "\n",
    "By the law of large numbers, the average number of random points that land inside the circle will converge to the true probability $\\pi / 4$. Thus multiplying such a randomly sampled probability estimate by 4 yields an approximation of pi. \n",
    "\n",
    "## Problem 1: Monte Carlo (2 points)\n",
    "\n",
    "Implement the function `monte_carlo_pi` below. You can use the [`numpy.random.uniform`](https://numpy.org/doc/stable/reference/random/generated/numpy.random.uniform.html) function to generate random points in the plane. For example, to generate a single point in the plane, you could use\n",
    "\n",
    "    x, y = np.random.uniform(-1, 1, 2)."
   ]
  },
  {
   "cell_type": "code",
   "execution_count": 1,
   "id": "eddcc6e2",
   "metadata": {},
   "outputs": [],
   "source": [
    "import numpy as np\n",
    "import matplotlib.pyplot as plt"
   ]
  },
  {
   "cell_type": "code",
   "execution_count": 2,
   "metadata": {
    "deletable": false,
    "nbgrader": {
     "cell_type": "code",
     "checksum": "bc1fef51d20f7de0eeec6283acdd9428",
     "grade": false,
     "grade_id": "cell-744ec530f916429b",
     "locked": false,
     "schema_version": 3,
     "solution": true,
     "task": false
    }
   },
   "outputs": [],
   "source": [
    "def monte_carlo_pi(N):\n",
    "    \"\"\"\n",
    "    Generate N uniformly distributed points in the square [-1,1) x [-1,1) and keeps\n",
    "    track of which of these points fall inside/outisde the circle of radius 1 centered \n",
    "    at the origin (0,0), and keeps track of the approximation \n",
    "    pi ≈ 4 * number_inside / total \n",
    "    as the number of randomly sampled points increases. \n",
    "    \n",
    "    Parameters\n",
    "    ----------\n",
    "        N (int): number of randomly sampled points in [-1, 1) x [-1, 1)\n",
    "        \n",
    "    Returns\n",
    "    -------\n",
    "        points_inside (list): A list whose first entry is a list of x-values of\n",
    "            the points in [-1, 1) x [-1, 1) that fall inside the circle, \n",
    "            and whose second entry is a list of y-values of the points that\n",
    "            fall inside the circle. (See test case below)\n",
    "        \n",
    "        points_outisde(list): A list whose first entry is a list of x-values of\n",
    "            the points in [-1, 1] x [-1, 1] that fall outside the circle, \n",
    "            and whose second entry is a list of y-values of the points that\n",
    "            fall outside the circle. (See test case below)\n",
    "        \n",
    "        current_pi (list): A list whose i-th entry is the approximation of pi using\n",
    "            only the first i randomly sampled points. \n",
    "    \n",
    "    \"\"\"\n",
    "    \n",
    "    number_inside = 0\n",
    "    points_inside = [[], []]\n",
    "    points_outside = [[], []]\n",
    "    current_pi = []\n",
    "    \n",
    "    # Sample individual points using x, y = np.random.uniform(-1,1,2)\n",
    "    # one at a time.\n",
    "    \n",
    "    # YOUR CODE HERE\n",
    "    for i in range(1,N+1):\n",
    "        x, y = np.random.uniform(-1,1,2)\n",
    "        if (x**2+y**2)**0.5>1:\n",
    "            points_outside[0].append(x)\n",
    "            points_outside[1].append(y)\n",
    "        else:\n",
    "            points_inside[0].append(x)\n",
    "            points_inside[1].append(y)\n",
    "            number_inside+=1\n",
    "        current_pi.append(4 * number_inside / i)\n",
    "      \n",
    "    return(points_inside, points_outside, current_pi)"
   ]
  },
  {
   "cell_type": "code",
   "execution_count": 3,
   "metadata": {},
   "outputs": [],
   "source": [
    "# You can use this code cell to play around with your code to make sure\n",
    "# it does what it is intended to do, i.e. to debug your code.\n"
   ]
  },
  {
   "cell_type": "markdown",
   "metadata": {
    "deletable": false,
    "editable": false,
    "nbgrader": {
     "cell_type": "markdown",
     "checksum": "ace1a7eb0b7583347d6d007aabd3be9d",
     "grade": false,
     "grade_id": "cell-f6904ba3a81c507a",
     "locked": true,
     "schema_version": 3,
     "solution": false,
     "task": false
    }
   },
   "source": [
    "In the code cell below, we create an image similar to the inscribed circle in the square from earlier, but now including the randomly sampled points. Those points that fall inside the circle are colored green and those that fall outside are colored red. \n",
    "\n",
    "Next to it we plot the approximations of pi as the number of sampled points increases, which should converge towards the actual value of pi, highlighted with a dotted red line. Due to the randomness in generating the points, running the cell several times will generate a different outcomes. "
   ]
  },
  {
   "cell_type": "code",
   "execution_count": 4,
   "metadata": {},
   "outputs": [
    {
     "data": {
      "image/png": "[encoded data removed]",
      "text/plain": [
       "<Figure size 1152x576 with 2 Axes>"
      ]
     },
     "metadata": {
      "needs_background": "light"
     },
     "output_type": "display_data"
    },
    {
     "name": "stdout",
     "output_type": "stream",
     "text": [
      "Final pi:  3.156\n"
     ]
    }
   ],
   "source": [
    "# To see the entire image, go to Cell --> All Outputs --> Toggle Scrolling\n",
    "N = 5000\n",
    "# Generate a bunch of x and y values between -1 and 1\n",
    "points_inside, points_outside, current_pi = monte_carlo_pi(N)\n",
    "\n",
    "# Draw a square and a circle to frame out the simulation\n",
    "squareX = [1,-1,-1,1,1]\n",
    "squareY = [1,1,-1,-1,1]\n",
    "\n",
    "circleX,circleY = [],[]\n",
    "\n",
    "for i in range(361):\n",
    "    circleX.append(np.cos(np.pi*i/180))\n",
    "    circleY.append(np.sin(np.pi*i/180))\n",
    "\n",
    "\n",
    "plt.rcParams['figure.figsize'] = [16, 8]\n",
    "\n",
    "fig, (ax1, ax2) = plt.subplots(1,2)\n",
    "ax1.plot(squareX, squareY, color='black')\n",
    "ax1.plot(circleX, circleY, color='b')\n",
    "ax1.scatter(*points_inside, c='g', marker='.')\n",
    "ax1.scatter(*points_outside, c='r', marker='.')\n",
    "ax1.set_aspect('equal')\n",
    "\n",
    "ax2.plot(range(N), current_pi)\n",
    "ax2.axhline(y=np.pi, c='r', ls='--')\n",
    "ax2.axis([0, N, 0, 4])\n",
    "plt.show()\n",
    "\n",
    "print(\"Final pi: \", current_pi[-1])"
   ]
  },
  {
   "cell_type": "code",
   "execution_count": 5,
   "metadata": {},
   "outputs": [
    {
     "name": "stdout",
     "output_type": "stream",
     "text": [
      "Points inside: \n",
      " [[-0.165955990594852, -0.6274795772446582, -0.20646505153866013], [0.4406489868843162, -0.3088785459139045, 0.07763346800671389]]\n",
      "Points outside: \n",
      " [[-0.9997712503653102, -0.7064882183657739], [-0.39533485473632046, -0.8153228104624044]]\n",
      "Approximations pi: \n",
      " [4.0, 2.0, 1.3333333333333333, 2.0, 2.4]\n"
     ]
    }
   ],
   "source": [
    "# Test case\n",
    "\n",
    "# set random seed, to fix the randomly generated points\n",
    "np.random.seed(1)\n",
    "points_inside, points_outside, current_pi = monte_carlo_pi(5)\n",
    "print(\"Points inside: \\n\", points_inside)\n",
    "print(\"Points outside: \\n\", points_outside)\n",
    "print(\"Approximations pi: \\n\", current_pi)"
   ]
  },
  {
   "cell_type": "markdown",
   "metadata": {
    "deletable": false,
    "editable": false,
    "nbgrader": {
     "cell_type": "markdown",
     "checksum": "c9e53fe377e186e48a7bfcebd1cd717f",
     "grade": false,
     "grade_id": "cell-e6b3e129e3342f96",
     "locked": true,
     "schema_version": 3,
     "solution": false,
     "task": false
    }
   },
   "source": [
    "Expected output:   \n",
    "   \n",
    "    Points inside: \n",
    "     [[-0.165955990594852, -0.6274795772446582, -0.20646505153866013], \n",
    "      [0.4406489868843162, -0.3088785459139045, 0.07763346800671389]]\n",
    "    Points outside: \n",
    "     [[-0.9997712503653102, -0.7064882183657739], \n",
    "      [-0.39533485473632046, -0.8153228104624044]]\n",
    "    Approximations pi: \n",
    "     [4.0, 2.0, 1.3333333333333333, 2.0, 2.4]"
   ]
  },
  {
   "cell_type": "code",
   "execution_count": 6,
   "metadata": {
    "deletable": false,
    "editable": false,
    "nbgrader": {
     "cell_type": "code",
     "checksum": "e328a0318de60421c3d0ed1e9c5131d7",
     "grade": true,
     "grade_id": "cell-37aea5ff2bf42bf7",
     "locked": true,
     "points": 2,
     "schema_version": 3,
     "solution": false,
     "task": false
    }
   },
   "outputs": [],
   "source": [
    "# Autograding\n",
    "np.random.seed(1)\n",
    "points_inside, points_outside, current_pi = monte_carlo_pi(5)\n",
    "\n",
    "assert np.allclose(points_inside, [[-0.165955990594852, -0.6274795772446582, -0.20646505153866013], [0.4406489868843162, -0.3088785459139045, 0.07763346800671389]])\n",
    "assert np.allclose(points_outside, [[-0.9997712503653102, -0.7064882183657739], [-0.39533485473632046, -0.8153228104624044]])\n",
    "assert np.allclose(current_pi, [4.0, 2.0, 1.3333333333333333, 2.0, 2.4])"
   ]
  },
  {
   "cell_type": "markdown",
   "metadata": {
    "deletable": false,
    "editable": false,
    "nbgrader": {
     "cell_type": "markdown",
     "checksum": "203b54faa17d7d9c8e1409a5d3dabf29",
     "grade": false,
     "grade_id": "cell-a7f5884051394141",
     "locked": true,
     "schema_version": 3,
     "solution": false,
     "task": false
    }
   },
   "source": [
    "## Problem 2: Riemann Sums (2 points)\n",
    "\n",
    "Implement the function `Riemann_pi` below to approximate pi using the midpoint for the Riemann sums."
   ]
  },
  {
   "cell_type": "code",
   "execution_count": 7,
   "metadata": {
    "deletable": false,
    "nbgrader": {
     "cell_type": "code",
     "checksum": "940f66b0e451641f830b725ffcae8b65",
     "grade": false,
     "grade_id": "cell-6be912ba357750a2",
     "locked": false,
     "schema_version": 3,
     "solution": true,
     "task": false
    }
   },
   "outputs": [],
   "source": [
    "def Riemann_pi(N):\n",
    "    \"\"\"\n",
    "    Computes an approximation of pi using Riemann sums to approximate\n",
    "    the area of the first quadrant of the unit circle. Its rectangles \n",
    "    have width 1/N and their heights are the function value of sqrt(1-x^2) \n",
    "    evaluated at the midpoint of each rectangle. \n",
    "    \n",
    "    Parameters\n",
    "    ----------\n",
    "        N (int): Number of rectangles\n",
    "        \n",
    "    Returns\n",
    "    -------\n",
    "        pi (float): Approximation of pi using the midpoint Riemann sum\n",
    "    \n",
    "    \"\"\"\n",
    "    \n",
    "    # YOUR CODE HERE\n",
    "    return(4*sum(np.sqrt(1-(np.arange(1,2*N+1,2)/(2*N))**2))/N)"
   ]
  },
  {
   "cell_type": "code",
   "execution_count": 8,
   "metadata": {},
   "outputs": [
    {
     "name": "stdout",
     "output_type": "stream",
     "text": [
      "3.1415929980246315\n"
     ]
    }
   ],
   "source": [
    "# Test case\n",
    "pi = Riemann_pi(10000)\n",
    "print(pi)"
   ]
  },
  {
   "cell_type": "markdown",
   "metadata": {
    "deletable": false,
    "editable": false,
    "nbgrader": {
     "cell_type": "markdown",
     "checksum": "29884e0e9d9b30dacd15d618e635a08f",
     "grade": false,
     "grade_id": "cell-3c7f24dde0741012",
     "locked": true,
     "schema_version": 3,
     "solution": false,
     "task": false
    }
   },
   "source": [
    "Expected output:\n",
    "\n",
    "    3.1415929980246284\n",
    "    \n",
    "Because of finite precision your solution might deviate slightly. Note that using 10.000 rectangles, the approximation is correct for the first 6 decimals of pi. "
   ]
  },
  {
   "cell_type": "code",
   "execution_count": 9,
   "metadata": {
    "deletable": false,
    "editable": false,
    "nbgrader": {
     "cell_type": "code",
     "checksum": "8a297555e075abb8f101414e0b485d34",
     "grade": true,
     "grade_id": "cell-15e19a341c7b927d",
     "locked": true,
     "points": 2,
     "schema_version": 3,
     "solution": false,
     "task": false
    }
   },
   "outputs": [],
   "source": [
    "# Autograder\n",
    "pi = Riemann_pi(100)\n",
    "assert np.allclose(pi, 3.1419368579000078)"
   ]
  },
  {
   "cell_type": "markdown",
   "metadata": {
    "deletable": false,
    "editable": false,
    "nbgrader": {
     "cell_type": "markdown",
     "checksum": "99748be69d95098091e860e710e04af0",
     "grade": false,
     "grade_id": "cell-13438a6d5618c465",
     "locked": true,
     "schema_version": 3,
     "solution": false,
     "task": false
    }
   },
   "source": [
    "# Infinite Series Approach\n",
    "\n",
    "The Riemann sums are certainly an improvement on our previous Monte Carlo method, but we can do better. The idea of using infinite sums seems to be working, so we'll continue down that path and move through some historical results."
   ]
  },
  {
   "cell_type": "markdown",
   "metadata": {
    "deletable": false,
    "editable": false,
    "nbgrader": {
     "cell_type": "markdown",
     "checksum": "07049a2d35381f2b22db20a994564788",
     "grade": false,
     "grade_id": "cell-7894b74f536ecc1e",
     "locked": true,
     "schema_version": 3,
     "solution": false,
     "task": false
    }
   },
   "source": [
    "## Problem 3: John Wallis (2 points)\n",
    "English mathematician John Wallis came up with the following [formula](https://en.wikipedia.org/wiki/Wallis_product) for $\\pi$ in 1655 as an infinite product:\n",
    "$$\\frac{\\pi}{2} = \\frac{2}{1} \\cdot \\frac{2}{3} \\cdot \\frac{4}{3} \\cdot \\frac{4}{5} \\cdot \\frac{6}{5} \\cdot \\frac{6}{7} \\cdot \\frac{8}{7} \\cdot \\frac{8}{9} \\dots$$\n",
    "The denominator and numerator are alternately incremented by 2. In code, every even iteration we can increment the denominator and every odd iteration we can increment the numerator.\n",
    "\n",
    "Implement `Wallis_pi`'s infinite product below."
   ]
  },
  {
   "cell_type": "code",
   "execution_count": 10,
   "metadata": {
    "deletable": false,
    "nbgrader": {
     "cell_type": "code",
     "checksum": "d049f2d5c5df3e5ea978cac18b6c9732",
     "grade": false,
     "grade_id": "cell-15cbb6d674c8b3f9",
     "locked": false,
     "schema_version": 3,
     "solution": true,
     "task": false
    }
   },
   "outputs": [],
   "source": [
    "def Wallis_pi(N):\n",
    "    \"\"\"\n",
    "    Approximates pi using the first N terms that appear in the Wallis product. \n",
    "    That is if N=3, then pi/2 ≈ 2/1 * 2/3 * 4/3, and so pi ≈ 2 * 2/1 * 2/3 * 4/3.\n",
    "    \n",
    "    Parameters\n",
    "    ----------\n",
    "        N (int): Number of terms used in the Wallis product\n",
    "        \n",
    "    Returns\n",
    "    -------\n",
    "        pi (float): Approximation for pi (NOT pi/2!)\n",
    "        \n",
    "    \"\"\"\n",
    "    \n",
    "    # YOUR CODE HERE\n",
    "    a=np.arange(1,N+1)%2+np.arange(1,N+1)\n",
    "    b=np.r_[1,a[0:(len(a)-2)]+1,a[N-1]+1-2*(N%2)]\n",
    "    pi=2*np.prod(a/b)\n",
    "    \n",
    "    return(pi)"
   ]
  },
  {
   "cell_type": "code",
   "execution_count": 11,
   "metadata": {},
   "outputs": [
    {
     "name": "stdout",
     "output_type": "stream",
     "text": [
      "Using 100 terms, pi is approximately 3.126078900215409\n",
      "Using 10001 terms, pi is approximately 3.1417497057380084\n"
     ]
    }
   ],
   "source": [
    "# Test cases\n",
    "print(\"Using 100 terms, pi is approximately\", Wallis_pi(100))\n",
    "print(\"Using 10001 terms, pi is approximately\", Wallis_pi(10001))\n"
   ]
  },
  {
   "cell_type": "markdown",
   "metadata": {
    "deletable": false,
    "editable": false,
    "nbgrader": {
     "cell_type": "markdown",
     "checksum": "14d243ba68043cce2660dbf873afd481",
     "grade": false,
     "grade_id": "cell-eb5947dfa42ac6cd",
     "locked": true,
     "schema_version": 3,
     "solution": false,
     "task": false
    },
    "scrolled": false
   },
   "source": [
    "Expected output:\n",
    "\n",
    "    Using 100 terms, pi is approximately 3.126078900215409\n",
    "    Using 10001 terms, pi is approximately 3.1417497057380084"
   ]
  },
  {
   "cell_type": "code",
   "execution_count": 12,
   "metadata": {
    "deletable": false,
    "editable": false,
    "nbgrader": {
     "cell_type": "code",
     "checksum": "0028c687d015184be6b18d2083ead7dc",
     "grade": true,
     "grade_id": "cell-bd65b9411d1b47bc",
     "locked": true,
     "points": 2,
     "schema_version": 3,
     "solution": false,
     "task": false
    }
   },
   "outputs": [],
   "source": [
    "# Autograding\n",
    "assert np.allclose(Wallis_pi(100), 3.126078900215409)\n",
    "assert np.allclose(Wallis_pi(101), 3.1570301764551654)"
   ]
  },
  {
   "cell_type": "markdown",
   "metadata": {
    "deletable": false,
    "editable": false,
    "nbgrader": {
     "cell_type": "markdown",
     "checksum": "31e72a808da773ad7cb5574c30c04889",
     "grade": false,
     "grade_id": "cell-c25c6ec0f1df9044",
     "locked": true,
     "schema_version": 3,
     "solution": false,
     "task": false
    }
   },
   "source": [
    "## Problem 4: Gregory-Leibniz (1 point)\n",
    "\n",
    "Next we have the Gregory-Leibniz series. We know from trigonometry that $\\tan(\\pi/4) = 1$ and hence for the inverse tangent $\\arctan(1) = \\pi/4$. In next week's lectures we will see that we can represent $\\arctan(x)$ as an infinite series (its Taylor series) around $x=0$:\n",
    "$$\\arctan(x) = x - \\frac{x^3}{3} + \\frac{x^5}{5} - \\frac{x^7}{7} + \\dots = \\sum_{n=0}^{\\infty} (-1)^n \\frac{x^{2n+1}}{2n+1}.$$\n",
    "Plugging in $x=1$ and multiplying both sides by 4 yields\n",
    "$$\\pi = \\frac{4}{1} - \\frac{4}{3} + \\frac{4}{5} - \\frac{4}{7} + \\frac{4}{9} - \\frac{4}{11} + \\frac{4}{13} - \\dots$$\n",
    "This is a very simple [formula](https://en.wikipedia.org/wiki/Leibniz_formula_for_%CF%80) and it gives us $\\pi$ directly. All we need to do, is add 2 to the denominator each time and flip between subtraction and addition.\n",
    "\n",
    "Implement the Gregory-Leibniz series below."
   ]
  },
  {
   "cell_type": "code",
   "execution_count": 13,
   "metadata": {
    "deletable": false,
    "nbgrader": {
     "cell_type": "code",
     "checksum": "90c0da4f9cf3229c6eac0c79883a8456",
     "grade": false,
     "grade_id": "cell-2f2933787baab5e4",
     "locked": false,
     "schema_version": 3,
     "solution": true,
     "task": false
    }
   },
   "outputs": [],
   "source": [
    "def arctan_pi(N):\n",
    "    \"\"\"\n",
    "    Approximates pi using the first N terms in the Gregory-Leibniz series. \n",
    "    That is if N=3, then pi ≈ 4/1 - 4/3 + 4/5. \n",
    "    \n",
    "    Parameters\n",
    "    ----------\n",
    "        N (int): Number of terms used in the Gregory-Leibniz formula.\n",
    "        \n",
    "    Returns\n",
    "    -------\n",
    "        pi (float): Approximation of pi. \n",
    "    \n",
    "    \"\"\"\n",
    "    \n",
    "    # YOUR CODE HERE\n",
    "    a=4*(np.arange(1,N+1)%2*2-1)\n",
    "    b=np.arange(1,2*N+1,2)\n",
    "    pi=sum(a/b)\n",
    "    return(pi)"
   ]
  },
  {
   "cell_type": "code",
   "execution_count": 14,
   "metadata": {},
   "outputs": [
    {
     "name": "stdout",
     "output_type": "stream",
     "text": [
      "Using 100 terms, pi is approximately 3.1315929035585537\n",
      "Using 10001 terms, pi is approximately 3.1416926435905346\n"
     ]
    }
   ],
   "source": [
    "# Test cases\n",
    "print(\"Using 100 terms, pi is approximately\", arctan_pi(100))\n",
    "print(\"Using 10001 terms, pi is approximately\", arctan_pi(10001))"
   ]
  },
  {
   "cell_type": "markdown",
   "metadata": {
    "deletable": false,
    "editable": false,
    "nbgrader": {
     "cell_type": "markdown",
     "checksum": "a886630e3177033a59d67f6af250c42f",
     "grade": false,
     "grade_id": "cell-f66557a1e7e72c47",
     "locked": true,
     "schema_version": 3,
     "solution": false,
     "task": false
    }
   },
   "source": [
    "Expected output:\n",
    "\n",
    "    Using 100 terms, pi is approximately 3.1315929035585537\n",
    "    Using 10001 terms, pi is approximately 3.1416926435905346"
   ]
  },
  {
   "cell_type": "code",
   "execution_count": 15,
   "metadata": {
    "deletable": false,
    "editable": false,
    "nbgrader": {
     "cell_type": "code",
     "checksum": "8d10f2ed9b591925a5ffcc3dc58b9447",
     "grade": true,
     "grade_id": "cell-239d19d4a64d0fa8",
     "locked": true,
     "points": 1,
     "schema_version": 3,
     "solution": false,
     "task": false
    }
   },
   "outputs": [],
   "source": [
    "# Autograding\n",
    "assert np.allclose(arctan_pi(100), 3.1315929035585537)\n",
    "assert np.allclose(arctan_pi(101), 3.1514934010709914)"
   ]
  },
  {
   "cell_type": "markdown",
   "metadata": {
    "deletable": false,
    "editable": false,
    "nbgrader": {
     "cell_type": "markdown",
     "checksum": "fc67f58a74791bcc91bb7822e49f9d79",
     "grade": false,
     "grade_id": "cell-be1ff27b4062a684",
     "locked": true,
     "schema_version": 3,
     "solution": false,
     "task": false
    }
   },
   "source": [
    "## Problem 5: Nilakantha (1 point)\n",
    "\n",
    "Another infinite sum, this one from the 15th century Indian mathematician Nilakantha Somayaji, is similar to the Gregory-Leibinz series.\n",
    "\n",
    "\\begin{align*}\n",
    "\\pi &= 3 + \\frac{4}{2 \\times 3 \\times 4} - \\frac{4}{4 \\times 5 \\times 6} + \\frac{4}{6 \\times 7 \\times 8} - \\frac{4}{8 \\times 9 \\times 10} + \\dots \\\\\n",
    "&= 3 + \\sum_{n=1}^{\\infty} (-1)^{n-1} \\frac{4}{2n \\cdot (2n+1) \\cdot (2n+2)} \\\\\n",
    "&\\approx 3 + \\sum_{n=1}^{N} (-1)^{n-1} \\frac{4}{2n \\cdot (2n+1) \\cdot (2n+2)}.\n",
    "\\end{align*}\n",
    "\n",
    "Implement the function `Nilakantha_pi` **recursively** to approximate $\\pi$. "
   ]
  },
  {
   "cell_type": "code",
   "execution_count": 16,
   "metadata": {
    "deletable": false,
    "nbgrader": {
     "cell_type": "code",
     "checksum": "68af0a05cec20e759f549f54a0c5e846",
     "grade": false,
     "grade_id": "cell-2dee18b345347d1a",
     "locked": false,
     "schema_version": 3,
     "solution": true,
     "task": false
    }
   },
   "outputs": [],
   "source": [
    "def Nilakantha_pi(N):\n",
    "    \"\"\"\n",
    "    Approximate pi using the first N terms (see formula above).\n",
    "    That is if N = 3, pi ≈ 3 + 4/(2*3*4) - 4/(4*5*6) + 4/(6*7*8).\n",
    "    \n",
    "    -!-!- IMPORTANT: Use `Nilakantha_pi(N-1)` in your code,\n",
    "    -!-!- exactly like this (otherwise the autograder won't recognize your\n",
    "    -!-!- solution as a recursive solution)\n",
    "    \n",
    "    Parameters\n",
    "    ----------\n",
    "        N (int): Number of terms used in the Nilakantha formula\n",
    "        \n",
    "    Returns\n",
    "        pi (float): approximation of pi. \n",
    "        \n",
    "    \"\"\"\n",
    "    if N>1:\n",
    "        return((-1)**(N-1)*4/(2*N*(2*N+1)*(2*N+2))+Nilakantha_pi(N-1))\n",
    "    elif N==1:\n",
    "        return(3+(-1)**(N-1)*4/(2*N*(2*N+1)*(2*N+2))+Nilakantha_pi(N-1))\n",
    "    else:\n",
    "        return(0)"
   ]
  },
  {
   "cell_type": "code",
   "execution_count": 17,
   "metadata": {},
   "outputs": [],
   "source": [
    "# You can use this code cell to play around with your code to make sure\n",
    "# it does what it is intended to do, i.e. to debug your code.\n"
   ]
  },
  {
   "cell_type": "code",
   "execution_count": 18,
   "metadata": {},
   "outputs": [
    {
     "name": "stdout",
     "output_type": "stream",
     "text": [
      "Using 100 terms, pi is approximately 3.1415924109719824\n"
     ]
    }
   ],
   "source": [
    "# Test cases\n",
    "print(\"Using 100 terms, pi is approximately\", Nilakantha_pi(100))"
   ]
  },
  {
   "cell_type": "markdown",
   "metadata": {
    "deletable": false,
    "editable": false,
    "nbgrader": {
     "cell_type": "markdown",
     "checksum": "e15dfa173d9a6e9bd6c905ccea773f51",
     "grade": false,
     "grade_id": "cell-27b2d4f05adb563b",
     "locked": true,
     "schema_version": 3,
     "solution": false,
     "task": false
    }
   },
   "source": [
    "Expected output:\n",
    "\n",
    "    Using 100 terms, pi is approximately 3.1415924109719824"
   ]
  },
  {
   "cell_type": "code",
   "execution_count": 19,
   "metadata": {
    "deletable": false,
    "editable": false,
    "nbgrader": {
     "cell_type": "code",
     "checksum": "cdcc5a68b549a9806d8ec41c36f8e4a4",
     "grade": true,
     "grade_id": "cell-59726dc712300568",
     "locked": true,
     "points": 1,
     "schema_version": 3,
     "solution": false,
     "task": false
    }
   },
   "outputs": [],
   "source": [
    "# Autograding\n",
    "assert np.allclose(Nilakantha_pi(100), 3.1415924109719824)\n",
    "assert np.allclose(Nilakantha_pi(10), 3.1414067184965018)\n",
    "\n",
    "import inspect\n",
    "sig = inspect.signature(Nilakantha_pi)\n",
    "source = inspect.getsource(Nilakantha_pi)\n",
    "\n",
    "assert \"Nilakantha_pi(N-1)\" in source, \"Is your function recursive?\""
   ]
  },
  {
   "cell_type": "markdown",
   "metadata": {
    "deletable": false,
    "editable": false,
    "nbgrader": {
     "cell_type": "markdown",
     "checksum": "0a4cb94e8c98348f0b245e72166673cb",
     "grade": false,
     "grade_id": "cell-d00b39207d063ed1",
     "locked": true,
     "schema_version": 3,
     "solution": false,
     "task": false
    }
   },
   "source": [
    "## Problem 6: Francois Viete (1 point)\n",
    "\n",
    "The following formula was discovered by the French mathematician [Francois Viete](https://en.wikipedia.org/wiki/Vi%C3%A8te%27s_formula) in 1593:\n",
    "$$\\frac{2}{\\pi} = \\frac{\\sqrt{2}}{2} \\cdot \\frac{\\sqrt{2 + \\sqrt{2}}}{2} \\cdot \\frac{\\sqrt{2 + \\sqrt{2 + \\sqrt{2}}}}{2} \\dots$$\n",
    "These are just the first three terms of an infinite series and already grow to somewhat monstrous proportions. However, if you look closely, you can see that each numerator is just the square root of 2 plus the previous numerator. This even applies to the first term if you assume the previous numerator is 0.\n",
    "\n",
    "Implement `Viete_pi`'s infinite product to approximate $\\pi$. "
   ]
  },
  {
   "cell_type": "code",
   "execution_count": 20,
   "metadata": {
    "deletable": false,
    "nbgrader": {
     "cell_type": "code",
     "checksum": "1d1a78e22948ce51688fb36f11eb36b4",
     "grade": false,
     "grade_id": "cell-fd9d92f64cfc353f",
     "locked": false,
     "schema_version": 3,
     "solution": true,
     "task": false
    }
   },
   "outputs": [],
   "source": [
    "def Viete_pi(N):\n",
    "    \"\"\"\n",
    "    Approximate pi using the first N terms appearing in Viete's formula. \n",
    "    That is if N=3, approximate 2/pi ≈ √2/2*√(2+√2)/2*√(2+√(2+√2))/2.\n",
    "    \n",
    "    Parameters\n",
    "    ----------\n",
    "        N (int): Number of terms used in Viete's formula.\n",
    "        \n",
    "    Returns\n",
    "    -------\n",
    "        pi (float): Approximation of pi. \n",
    "    \"\"\"\n",
    "    # YOUR CODE HERE\n",
    "    b=[np.sqrt(2)]\n",
    "    for i in range(1,N):\n",
    "        b.append(np.sqrt(2+b[i-1]))\n",
    "\n",
    "    pi=(2**(N+1))/(np.prod(b))\n",
    "    return(pi)"
   ]
  },
  {
   "cell_type": "code",
   "execution_count": 21,
   "metadata": {},
   "outputs": [
    {
     "name": "stdout",
     "output_type": "stream",
     "text": [
      "Using 100 terms, pi is approximately 3.141592653589794\n"
     ]
    }
   ],
   "source": [
    "# Test cases\n",
    "print(\"Using 100 terms, pi is approximately\", Viete_pi(100))"
   ]
  },
  {
   "cell_type": "markdown",
   "metadata": {},
   "source": [
    "Expected output:\n",
    "\n",
    "    Using 100 terms, pi is approximately 3.141592653589794"
   ]
  },
  {
   "cell_type": "code",
   "execution_count": 22,
   "metadata": {
    "deletable": false,
    "editable": false,
    "nbgrader": {
     "cell_type": "code",
     "checksum": "e1933d4ca380778049f7b3425a4ef17b",
     "grade": true,
     "grade_id": "cell-b1a72e123ff2dd1b",
     "locked": true,
     "points": 1,
     "schema_version": 3,
     "solution": false,
     "task": false
    }
   },
   "outputs": [],
   "source": [
    "# Autograding\n",
    "assert np.allclose(Viete_pi(100), 3.141592653589794)\n",
    "assert np.allclose(Viete_pi(10), 3.1415914215111997)"
   ]
  },
  {
   "cell_type": "markdown",
   "metadata": {
    "deletable": false,
    "editable": false,
    "nbgrader": {
     "cell_type": "markdown",
     "checksum": "3d080e9ae8d6797b7272ea7a4fdcbf49",
     "grade": false,
     "grade_id": "cell-8b3852406d83a0f3",
     "locked": true,
     "schema_version": 3,
     "solution": false,
     "task": false
    }
   },
   "source": [
    "## Problen 7: Continued fractions (1 point)\n",
    "\n",
    "Lastly we will expess $\\pi$ as an infinite fraction, a so called generalized continued fraction:\n",
    "$$\\pi = \\frac{4}{1 + \\frac{1^2}{3 + \\frac{2^2}{5 + \\frac{3^2}{7 + \\frac{4^2}{9 + \\dots}}}}}.$$\n",
    "\n",
    "The single term approximation will be given by\n",
    "$$\\pi \\approx \\frac{4}{1},$$\n",
    "the two term approximation will be given by\n",
    "$$\\pi \\approx \\frac{4}{1 + \\frac{1^2}{3}},$$\n",
    "the three term approximation will be given by\n",
    "$$\\pi \\approx \\frac{4}{1 + \\frac{1^2}{3 + \\frac{2^2}{5}}}.$$\n",
    "\n",
    "Implement the function `CF_pi` below, optionally **recursively**. "
   ]
  },
  {
   "cell_type": "code",
   "execution_count": 23,
   "metadata": {
    "deletable": false,
    "nbgrader": {
     "cell_type": "code",
     "checksum": "8aac477940eb0e09a527c310b01defe6",
     "grade": false,
     "grade_id": "cell-44ef6036fce74def",
     "locked": false,
     "schema_version": 3,
     "solution": true,
     "task": false
    }
   },
   "outputs": [],
   "source": [
    "def CF_pi(k, N):\n",
    "    \"\"\"\n",
    "    Approximate pi using its continued fraction expression recursively\n",
    "    up to its Nth term, for N>2. \n",
    "    CF_pi(1,N) returns the continued fraction approximation of pi using N terms. \n",
    "    \n",
    "    Parameters\n",
    "    ----------\n",
    "        k (int): Parameter that can be used for recursion\n",
    "        N (int): Number of terms in the approximation\n",
    "        \n",
    "    Returns\n",
    "    -------\n",
    "        pi (float): Approximation of pi.\n",
    "    \n",
    "    \"\"\"\n",
    "    \n",
    "    # YOUR CODE HERE\n",
    "    p=2*N-1\n",
    "    N-=1\n",
    "    while N>0:\n",
    "        p=N*2-1+(N**2)/p\n",
    "        N-=1\n",
    "    \n",
    "    return(4/p)"
   ]
  },
  {
   "cell_type": "code",
   "execution_count": 24,
   "metadata": {},
   "outputs": [],
   "source": [
    "# You can use this code cell to play around with your code to make sure\n",
    "# it does what it is intended to do, i.e. to debug your code.\n"
   ]
  },
  {
   "cell_type": "code",
   "execution_count": 25,
   "metadata": {},
   "outputs": [
    {
     "name": "stdout",
     "output_type": "stream",
     "text": [
      "Using 5 terms, pi is approximately 3.142342342342342\n"
     ]
    }
   ],
   "source": [
    "# Test case\n",
    "print(\"Using 5 terms, pi is approximately\", CF_pi(1, 5))"
   ]
  },
  {
   "cell_type": "markdown",
   "metadata": {
    "deletable": false,
    "editable": false,
    "nbgrader": {
     "cell_type": "markdown",
     "checksum": "1be346b30dc682669ce37bf0a83cd6ef",
     "grade": false,
     "grade_id": "cell-eebc17bf0e87e45e",
     "locked": true,
     "schema_version": 3,
     "solution": false,
     "task": false
    }
   },
   "source": [
    "Expected output:\n",
    "\n",
    "    Using 5 terms, pi is approximately 3.142342342342342"
   ]
  },
  {
   "cell_type": "code",
   "execution_count": 26,
   "metadata": {
    "deletable": false,
    "editable": false,
    "nbgrader": {
     "cell_type": "code",
     "checksum": "03d998e0010da223b5726b8fef111eff",
     "grade": true,
     "grade_id": "cell-0c00153b0ae413bc",
     "locked": true,
     "points": 1,
     "schema_version": 3,
     "solution": false,
     "task": false
    }
   },
   "outputs": [],
   "source": [
    "# Autograder\n",
    "assert np.allclose(CF_pi(1,10), 3.14159254044654)"
   ]
  }
 ],
 "metadata": {
  "kernelspec": {
   "display_name": "Python 3.9.12 ('base')",
   "language": "python",
   "name": "python3"
  },
  "language_info": {
   "codemirror_mode": {
    "name": "ipython",
    "version": 3
   },
   "file_extension": ".py",
   "mimetype": "text/x-python",
   "name": "python",
   "nbconvert_exporter": "python",
   "pygments_lexer": "ipython3",
   "version": "3.9.12"
  },
  "vscode": {
   "interpreter": {
    "hash": "b68ca19c0df0760c1787e20c3f0dd1e5f78c535cd246ff2eb4732394cfca7b12"
   }
  }
 },
 "nbformat": 4,
 "nbformat_minor": 5
}
