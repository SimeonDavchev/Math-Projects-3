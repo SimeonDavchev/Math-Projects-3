{
 "cells": [
  {
   "cell_type": "markdown",
   "metadata": {
    "deletable": false,
    "editable": false,
    "nbgrader": {
     "cell_type": "markdown",
     "checksum": "ca97fbabd47512e7da32b0dedbef14b4",
     "grade": false,
     "grade_id": "cell-cfc5e593189c2cde",
     "locked": true,
     "schema_version": 3,
     "solution": false,
     "task": false
    }
   },
   "source": [
    "## Problem 1: Complex Numbers Class (6 points, 0.5 points per correct method)\n",
    "\n",
    "Implement the class `Complex` representing complex numbers. It should satisfy the following specifications: \n",
    "* It should contain two instance attributes:\n",
    "    * `real` for the real part of the complex number\n",
    "    * `imag` for the imaginary part of the complex number. \n",
    "* It should contain the methods:\n",
    "    * `__init__` for initializing a new instance of a complex number. See more specifications below. \n",
    "    * `__str__` for representing a complex number. See more specifications below.\n",
    "    * `__add__` for adding two complex numbers.\n",
    "    * `__sub__` for subtracting two complex numbers.\n",
    "    * `__neg__` for negating a complex number.\n",
    "    * `conjugate` for computing the conjugate of a complex number.\n",
    "    * `__mul__` for multiplying two complex numbers.\n",
    "    * `__truediv__` for dividing two complex numbers.\n",
    "    * `__eq__` for checking if two complex numbers are equal.\n",
    "    * `__ne__` for checking if two complex numbers are not equal.\n",
    "    * `__abs__` for computing the absolute value of a complex number.\n",
    "    * `phase` for computing the principal value of the argument of a complex number. (see math.atan2)\n",
    "    * `polar` for computing the polar coordinates of a complex number. \n",
    "* If only a single parameter is provided to instantiate an object of the `Complex` class, we assume this number is used to represent a real number (i.e. Complex(5) should be the same as Complex(5, 0)). So by default the imaginary part should be zero. \n",
    "* The `__str__` method returns `a + bi` as a string (so not %f / %d %f) with the following conventions:\n",
    "    * If b = 0, simply return a. (Instead of a + 0i)\n",
    "    * If b = 1 or b = -1, simply return a + i or a - i. (Instead of a + 1i or a - 1i)\n",
    "    * If b is negative, return a - bi such that b is positive. Example: it should return 2 - 3i instead of 2 + -3i. \n",
    "    * If a = 0, return bi. In case b is also negative, return -bj, where b is positive (no spaces). Example: it should return -3i instead of 0 - 3i. \n",
    "* `phase` should return a number between $-\\pi$ and $\\pi$, contrary to how we discussed the angle in the lecture which we defined to be between $-\\pi/2$ and $3\\pi/2$. Check using the testcases. If $z = 0$, the phase is undefined. You can safely ignore this special case."
   ]
  },
  {
   "cell_type": "code",
   "execution_count": 1,
   "metadata": {
    "deletable": false,
    "nbgrader": {
     "cell_type": "code",
     "checksum": "e61ce61317d5eabc107e4e94af05bfe2",
     "grade": false,
     "grade_id": "cell-d2ecc0d0c5c53885",
     "locked": false,
     "schema_version": 3,
     "solution": true,
     "task": false
    }
   },
   "outputs": [],
   "source": [
    "import math\n",
    "import cmath\n",
    "\n",
    "class Complex:\n",
    "    \"\"\"\n",
    "    A class used to represent complex numbers.\n",
    "        \n",
    "    Attributes\n",
    "    ----------\n",
    "        real (float): the real part of the complex number\n",
    "        imag (float): the imaginary part of the complex number (by default 0)\n",
    "    \n",
    "    \n",
    "    Methods\n",
    "    -------\n",
    "        __init__(self, real, imag=0): Ininitialize a Complex number object, instantiating the\n",
    "            attributes real and imag. \n",
    "        \n",
    "        __str__(self): Returns a string that represent the complex number, see problem statement.\n",
    "        \n",
    "        __add__(self, other): Returns a Complex class object that is the sum of the complex\n",
    "            numbers self and other.\n",
    "            \n",
    "        __sub__(self, other): Returns a Complex class object that is the difference of the complex\n",
    "            numbers self and other.\n",
    "            \n",
    "        __neg__(self): Returns a Complex class object that is the negation of the complex number self.\n",
    "        \n",
    "        conjugate(self): Returns a Complex class object that is the complex conjugate of self.\n",
    "        \n",
    "        __mul__(self, other): Returns a Complex class object that is the product of self and other.\n",
    "        \n",
    "        __truediv__(self, other): Return a Complex class object that is the quotient of self and other.\n",
    "        \n",
    "        __eq__(self, other): Returns a boolean that is True if self and other are equal, i.e.\n",
    "            have equal real and equal imaginary part.\n",
    "            \n",
    "        __ne__(self, other): Returns a boolean that is True if self and other are not equal.\n",
    "        \n",
    "        __abs__(self): Returns the length/norm/absolute value of the complex number self.\n",
    "        \n",
    "        phase(self): Returns the angle between -pi and pi of the complex number self.\n",
    "        \n",
    "        polar(self): Returns the tuple (r, theta), which are the absolute value and phase\n",
    "            of the complex number self. \n",
    "    \n",
    "    \"\"\"\n",
    "    def __init__(self, real, imag=0):\n",
    "        self.real=real\n",
    "        self.imag=imag\n",
    "\n",
    "    def __str__(self):\n",
    "        a=self.real\n",
    "        b=self.imag\n",
    "\n",
    "        if b==0:\n",
    "            return(\"%s\" % (a))\n",
    "        elif (b==1) & (a!=0):\n",
    "            return(\"%s + i\"%(a))\n",
    "        elif (b==1) & (a==0):\n",
    "            return(\"i\")\n",
    "        elif (b==-1) & (a!=0):\n",
    "            return(\"%s - i\" % (a))\n",
    "        elif (b==-1) & (a==0):\n",
    "            return(\"- i\")\n",
    "        elif (b<0) & (a!=0):\n",
    "            return(\"%s - %si\" % (a,abs(b)))\n",
    "        elif (b<0) & (a==0):\n",
    "            return(\"%si\" % (b))\n",
    "        elif (b>0) & (a!=0):\n",
    "            return(\"%s + %si\" % (a,b))\n",
    "        elif (b>0) & (a==0):\n",
    "            return(\"%si\"%(b))\n",
    " \n",
    "    def __add__(self,other):\n",
    "        a=self.real+other.real\n",
    "        b=self.imag+other.imag\n",
    "        return(Complex(a,b))\n",
    "    \n",
    "    def __sub__(self,other):\n",
    "        a=self.real-other.real\n",
    "        b=self.imag-other.imag\n",
    "        return(Complex(a,b))\n",
    "\n",
    "    def __neg__(self):\n",
    "        return(Complex(-self.real,-self.imag))\n",
    "\n",
    "    def conjugate(self):\n",
    "        return(Complex(self.real,-self.imag))\n",
    "\n",
    "    def __mul__(self,other):\n",
    "        a=self.real*other.real-self.imag*other.imag\n",
    "        b=self.real*other.imag+self.imag*other.real\n",
    "        return(Complex(a,b))\n",
    "\n",
    "    def __truediv__(self,other):\n",
    "        a=self.real; b=self.imag\n",
    "        c=other.real; d=other.imag\n",
    "        return(Complex((a*c+b*d)/(c**2+d**2),(c*b-d*a)/(c**2+d**2)))\n",
    "    \n",
    "    def __eq__(self, other):\n",
    "        return((self.real==other.real)&(self.imag==other.imag))\n",
    "\n",
    "    def __ne__(self, other):\n",
    "        return(not(self==other))\n",
    "\n",
    "    def __abs__(self):\n",
    "        return((self.real**2+self.imag**2)**0.5)\n",
    "    \n",
    "    def phase(self):\n",
    "        return(math.atan2(self.imag,self.real))\n",
    "\n",
    "    def polar(self):\n",
    "        return((abs(self),self.phase()))\n"
   ]
  },
  {
   "cell_type": "markdown",
   "metadata": {
    "deletable": false,
    "editable": false,
    "nbgrader": {
     "cell_type": "markdown",
     "checksum": "844d6a64461f74f1929c14ca32750b23",
     "grade": false,
     "grade_id": "cell-7ffd5514a8a884d7",
     "locked": true,
     "schema_version": 3,
     "solution": false,
     "task": false
    }
   },
   "source": [
    "### Test cases"
   ]
  },
  {
   "cell_type": "code",
   "execution_count": 2,
   "metadata": {},
   "outputs": [
    {
     "name": "stdout",
     "output_type": "stream",
     "text": [
      "Re(z1) = 1   Im(z1) =  2\n",
      "Re(z3) = 5   Im(z3) =  0 \n",
      "\n",
      "z1 = 1 + 2i\n",
      "z2 = 3 - i\n",
      "z3 = 5\n",
      "z4 = -4i \n",
      "\n",
      "z1 + z2 = 4 + i\n",
      "z3 + z4 = 5 - 4i \n",
      "\n",
      "z1 - z2 = -2 + 3i\n",
      "z3 - z4 = 5 + 4i \n",
      "\n",
      "-z2 = -3 + i\n",
      "-z4 = 4i \n",
      "\n"
     ]
    }
   ],
   "source": [
    "# Instantiate four complex numbers\n",
    "z1 = Complex(1,2)\n",
    "z2 = Complex(3, -1)\n",
    "z3 = Complex(5)\n",
    "z4 = Complex(0, -4)\n",
    "\n",
    "# Correct attributes\n",
    "print(\"Re(z1) =\", z1.real, \"  Im(z1) = \", z1.imag)\n",
    "print(\"Re(z3) =\", z3.real, \"  Im(z3) = \", z3.imag, \"\\n\")\n",
    "\n",
    "# Printing complex numbers\n",
    "print(\"z1 =\", z1)\n",
    "print(\"z2 =\", z2)\n",
    "print(\"z3 =\", z3)\n",
    "print(\"z4 =\", z4, \"\\n\")\n",
    "\n",
    "# Adding two complex numbers\n",
    "print(\"z1 + z2 =\", z1 + z2)\n",
    "print(\"z3 + z4 =\", z3 + z4, \"\\n\")\n",
    "\n",
    "# Subtracting two complex numbers\n",
    "print(\"z1 - z2 =\", z1 - z2)\n",
    "print(\"z3 - z4 =\", z3 - z4, \"\\n\")\n",
    "\n",
    "# Negating a complex number\n",
    "print(\"-z2 =\", -z2)\n",
    "print(\"-z4 =\", -z4, \"\\n\")"
   ]
  },
  {
   "cell_type": "markdown",
   "metadata": {
    "deletable": false,
    "editable": false,
    "nbgrader": {
     "cell_type": "markdown",
     "checksum": "257d82424587a68be92bb0c7fead8d7e",
     "grade": false,
     "grade_id": "cell-77e8d443324b15a4",
     "locked": true,
     "schema_version": 3,
     "solution": false,
     "task": false
    }
   },
   "source": [
    "Expected output:\n",
    "\n",
    "    Re(z1) = 1   Im(z1) =  2\n",
    "    Re(z3) = 5   Im(z3) =  0 \n",
    "\n",
    "    z1 = 1 + 2i\n",
    "    z2 = 3 - i\n",
    "    z3 = 5\n",
    "    z4 = -4i \n",
    "\n",
    "    z1 + z2 = 4 + i\n",
    "    z3 + z4 = 5 - 4i \n",
    "\n",
    "    z1 - z2 = -2 + 3i\n",
    "    z3 - z4 = 5 + 4i \n",
    "\n",
    "    -z2 = -3 + i\n",
    "    -z4 = 4i "
   ]
  },
  {
   "cell_type": "code",
   "execution_count": 3,
   "metadata": {},
   "outputs": [
    {
     "name": "stdout",
     "output_type": "stream",
     "text": [
      "conjugate(z1) = 1 - 2i\n",
      "conjugate(z3) = 5\n",
      "conjugate(z4) = 4i \n",
      "\n",
      "z1 * z2 = 5 + 5i\n",
      "z3 * z4 = -20i \n",
      "\n",
      "z1 / z2 = 0.1 + 0.7i\n",
      "z3 / z4 = 1.25i \n",
      "\n",
      "True\n",
      "False \n",
      "\n",
      "False\n",
      "True \n",
      "\n"
     ]
    }
   ],
   "source": [
    "# Complex conjugate\n",
    "print(\"conjugate(z1) =\", z1.conjugate())\n",
    "print(\"conjugate(z3) =\", z3.conjugate())\n",
    "print(\"conjugate(z4) =\", z4.conjugate(), \"\\n\")\n",
    "\n",
    "\n",
    "# Multiplying two complex numbers\n",
    "print(\"z1 * z2 =\", z1 * z2)\n",
    "print(\"z3 * z4 =\", z3 * z4, \"\\n\")\n",
    "\n",
    "# Dividing two complex numbers\n",
    "print(\"z1 / z2 =\", z1 / z2)\n",
    "print(\"z3 / z4 =\", z3 / z4, \"\\n\")\n",
    "\n",
    "# Checking for equality\n",
    "print(z1 == z1)\n",
    "print(z1 == z2, \"\\n\")\n",
    "\n",
    "# Checking for inequality\n",
    "print(z1 != z1)\n",
    "print(z1 != z2, \"\\n\")"
   ]
  },
  {
   "cell_type": "markdown",
   "metadata": {
    "deletable": false,
    "editable": false,
    "nbgrader": {
     "cell_type": "markdown",
     "checksum": "7ef9db7a0129e6dfedc3019279a97264",
     "grade": false,
     "grade_id": "cell-91dbdbc195be8457",
     "locked": true,
     "schema_version": 3,
     "solution": false,
     "task": false
    }
   },
   "source": [
    "Expected output:\n",
    "\n",
    "    conjugate(z1) = 1 - 2i\n",
    "    conjugate(z3) = 5\n",
    "    conjugate(z4) = 4i \n",
    "\n",
    "    z1 * z2 = 5 + 5i\n",
    "    z3 * z4 = -20i \n",
    "\n",
    "    z1 / z2 = 0.1 + 0.7i\n",
    "    z3 / z4 = 1.25i \n",
    "\n",
    "    True\n",
    "    False \n",
    "\n",
    "    False\n",
    "    True "
   ]
  },
  {
   "cell_type": "code",
   "execution_count": 4,
   "metadata": {},
   "outputs": [
    {
     "name": "stdout",
     "output_type": "stream",
     "text": [
      "|z1| = 2.23606797749979\n",
      "|z2| = 3.1622776601683795\n",
      "|z3| = 5.0 \n",
      "\n",
      "arg(z1) = 1.1071487177940904\n",
      "arg(z2) = -0.3217505543966422\n",
      "arg(z3) = 0.0\n",
      "arg(z4) = -1.5707963267948966 \n",
      "\n",
      "(r, theta) =  (2.23606797749979, 1.1071487177940904)\n",
      "(r, theta) =  (3.1622776601683795, -0.3217505543966422)\n"
     ]
    }
   ],
   "source": [
    "# Absolute value of a complex number\n",
    "print(\"|z1| =\", abs(z1))\n",
    "print(\"|z2| =\", abs(z2))\n",
    "print(\"|z3| =\", abs(z3), \"\\n\")\n",
    "\n",
    "# Phase / argument of a complex number\n",
    "print(\"arg(z1) =\", z1.phase())\n",
    "print(\"arg(z2) =\", z2.phase())\n",
    "print(\"arg(z3) =\", z3.phase())\n",
    "print(\"arg(z4) =\", z4.phase(), \"\\n\")\n",
    "\n",
    "# Polar coordinates\n",
    "print(\"(r, theta) = \", z1.polar())\n",
    "print(\"(r, theta) = \", z2.polar())"
   ]
  },
  {
   "cell_type": "markdown",
   "metadata": {
    "deletable": false,
    "editable": false,
    "nbgrader": {
     "cell_type": "markdown",
     "checksum": "949b2e62cab180565a84352a1e1026ab",
     "grade": false,
     "grade_id": "cell-2a78c8840250cba2",
     "locked": true,
     "schema_version": 3,
     "solution": false,
     "task": false
    }
   },
   "source": [
    "Expected output:\n",
    "\n",
    "    |z1| = 2.23606797749979\n",
    "    |z2| = 3.1622776601683795\n",
    "    |z3| = 5.0 \n",
    "\n",
    "    arg(z1) = 1.1071487177940904\n",
    "    arg(z2) = -0.3217505543966422\n",
    "    arg(z3) = 0.0\n",
    "    arg(z4) = -1.5707963267948966 \n",
    "\n",
    "    (r, theta) =  (2.23606797749979, 1.1071487177940904)\n",
    "    (r, theta) =  (3.1622776601683795, -0.3217505543966422)"
   ]
  },
  {
   "cell_type": "code",
   "execution_count": 5,
   "metadata": {
    "deletable": false,
    "editable": false,
    "nbgrader": {
     "cell_type": "code",
     "checksum": "358bf98164b75169f735f47d635fd616",
     "grade": true,
     "grade_id": "cell-772ca90a8f7b0ded",
     "locked": true,
     "points": 0.5,
     "schema_version": 3,
     "solution": false,
     "task": false
    }
   },
   "outputs": [],
   "source": [
    "# AUTOGRADING INSTANTIATING\n",
    "z1 = Complex(1,2)\n",
    "z2 = Complex(3, -1)\n",
    "z3 = Complex(5)\n",
    "z4 = Complex(0, -4)\n",
    "\n",
    "assert z1.real == 1 and z1.imag == 2\n",
    "assert z3.real == 5 and z3.imag == 0"
   ]
  },
  {
   "cell_type": "code",
   "execution_count": 6,
   "metadata": {
    "deletable": false,
    "editable": false,
    "nbgrader": {
     "cell_type": "code",
     "checksum": "3b9c33e7249d3833ac0165e3554b9b73",
     "grade": true,
     "grade_id": "cell-6126d4ad256b017f",
     "locked": true,
     "points": 0.5,
     "schema_version": 3,
     "solution": false,
     "task": false
    }
   },
   "outputs": [],
   "source": [
    "# AUTOGRADING STRING PRINTING\n",
    "assert str(z1) == \"1 + 2i\"\n",
    "assert str(z2) == \"3 - i\"\n",
    "assert str(z3) == \"5\"\n",
    "assert str(z4) == \"-4i\""
   ]
  },
  {
   "cell_type": "code",
   "execution_count": 7,
   "metadata": {
    "deletable": false,
    "editable": false,
    "nbgrader": {
     "cell_type": "code",
     "checksum": "81e624cf3dc7ec88148a8351788f0e7f",
     "grade": true,
     "grade_id": "cell-836ecde346df22e8",
     "locked": true,
     "points": 0.5,
     "schema_version": 3,
     "solution": false,
     "task": false
    }
   },
   "outputs": [],
   "source": [
    "# AUTOGRADING ADDITION\n",
    "w = z1 + z2\n",
    "v = z3 + z4\n",
    "assert w.real == 4 and w.imag == 1\n",
    "assert v.real == 5 and v.imag == -4"
   ]
  },
  {
   "cell_type": "code",
   "execution_count": 8,
   "metadata": {
    "deletable": false,
    "editable": false,
    "nbgrader": {
     "cell_type": "code",
     "checksum": "f519eaa3c94d91fc16afbce077a52481",
     "grade": true,
     "grade_id": "cell-e1eeaf0beea84bea",
     "locked": true,
     "points": 0.5,
     "schema_version": 3,
     "solution": false,
     "task": false
    }
   },
   "outputs": [],
   "source": [
    "# AUTOGRADING SUBTRACTION\n",
    "w = z1 - z2\n",
    "v = z3 - z4\n",
    "assert w.real == -2 and w.imag == 3\n",
    "assert v.real == 5 and v.imag == 4"
   ]
  },
  {
   "cell_type": "code",
   "execution_count": 9,
   "metadata": {
    "deletable": false,
    "editable": false,
    "nbgrader": {
     "cell_type": "code",
     "checksum": "a4e1ad88a4301e80a13e9b59859799ce",
     "grade": true,
     "grade_id": "cell-9fa6175b5c285154",
     "locked": true,
     "points": 0.5,
     "schema_version": 3,
     "solution": false,
     "task": false
    }
   },
   "outputs": [],
   "source": [
    "# AUTOGRADING NEGATION\n",
    "w = -z2\n",
    "v = -z4\n",
    "assert w.real == -3 and w.imag == 1\n",
    "assert v.real == 0 and v.imag == 4"
   ]
  },
  {
   "cell_type": "code",
   "execution_count": 10,
   "metadata": {
    "deletable": false,
    "editable": false,
    "nbgrader": {
     "cell_type": "code",
     "checksum": "2e633edd4d52c766af69daeb97993627",
     "grade": true,
     "grade_id": "cell-b476d151791aef00",
     "locked": true,
     "points": 0.5,
     "schema_version": 3,
     "solution": false,
     "task": false
    }
   },
   "outputs": [],
   "source": [
    "# AUTOGRADING COMPLEX CONJUGATE\n",
    "w = z1.conjugate()\n",
    "v = z3.conjugate()\n",
    "x = z4.conjugate()\n",
    "assert w.real == 1 and w.imag == -2\n",
    "assert v.real == 5 and v.imag == 0\n",
    "assert x.real == 0 and x.imag == 4"
   ]
  },
  {
   "cell_type": "code",
   "execution_count": 11,
   "metadata": {
    "deletable": false,
    "editable": false,
    "nbgrader": {
     "cell_type": "code",
     "checksum": "1723f27bc21901cbbc5adc2138f31525",
     "grade": true,
     "grade_id": "cell-345bc82304680267",
     "locked": true,
     "points": 0.5,
     "schema_version": 3,
     "solution": false,
     "task": false
    }
   },
   "outputs": [],
   "source": [
    "# AUTOGRADING MULTIPLICATION\n",
    "w = z1 * z2\n",
    "v = z3 * z4\n",
    "assert w.real == 5 and w.imag == 5\n",
    "assert v.real == 0 and v.imag == -20"
   ]
  },
  {
   "cell_type": "code",
   "execution_count": 12,
   "metadata": {
    "deletable": false,
    "editable": false,
    "nbgrader": {
     "cell_type": "code",
     "checksum": "f482f1dd1a8051c3720bacac9f131e77",
     "grade": true,
     "grade_id": "cell-69e64404e6d70cd7",
     "locked": true,
     "points": 0.5,
     "schema_version": 3,
     "solution": false,
     "task": false
    }
   },
   "outputs": [],
   "source": [
    "# AUTOGRADING DIVISION\n",
    "w = z1 / z2\n",
    "v = z3 / z4\n",
    "assert w.real == 0.1 and w.imag == 0.7\n",
    "assert v.real == 0 and v.imag == 1.25"
   ]
  },
  {
   "cell_type": "code",
   "execution_count": 13,
   "metadata": {
    "deletable": false,
    "editable": false,
    "nbgrader": {
     "cell_type": "code",
     "checksum": "fedf1989504e92972fa2eed60d4eedac",
     "grade": true,
     "grade_id": "cell-98a602de0e63b815",
     "locked": true,
     "points": 0.5,
     "schema_version": 3,
     "solution": false,
     "task": false
    }
   },
   "outputs": [],
   "source": [
    "# AUTOGRADING EQUALITY/INEQUALITY TESTING\n",
    "assert (z1 == z1) == True\n",
    "assert (z1 == z2) == False\n",
    "\n",
    "assert (z1 != z1) == False\n",
    "assert (z1 != z2) == True"
   ]
  },
  {
   "cell_type": "code",
   "execution_count": 14,
   "metadata": {
    "deletable": false,
    "editable": false,
    "nbgrader": {
     "cell_type": "code",
     "checksum": "002a4fcb9790e34ba6e87ab95bb82ab8",
     "grade": true,
     "grade_id": "cell-c98ab8b8ebbf3255",
     "locked": true,
     "points": 0.5,
     "schema_version": 3,
     "solution": false,
     "task": false
    }
   },
   "outputs": [],
   "source": [
    "# AUTOGRADING ABSOLUTE VALUE\n",
    "import numpy as np\n",
    "np.testing.assert_almost_equal(abs(z1), 2.23606797749979)\n",
    "np.testing.assert_almost_equal(abs(z2), 3.1622776601683795)\n",
    "np.testing.assert_almost_equal(abs(z3), 5.0)"
   ]
  },
  {
   "cell_type": "code",
   "execution_count": 15,
   "metadata": {
    "deletable": false,
    "editable": false,
    "nbgrader": {
     "cell_type": "code",
     "checksum": "fc0e3a42d72a6993b9b0b93ca52da4b1",
     "grade": true,
     "grade_id": "cell-0d88b95d2291d6da",
     "locked": true,
     "points": 0.5,
     "schema_version": 3,
     "solution": false,
     "task": false
    }
   },
   "outputs": [],
   "source": [
    "# AUTOGRADING PHASE\n",
    "np.testing.assert_almost_equal(z1.phase(), 1.1071487177940904)\n",
    "np.testing.assert_almost_equal(z2.phase(), -0.3217505543966422)\n",
    "np.testing.assert_almost_equal(z3.phase(), 0.0)\n",
    "np.testing.assert_almost_equal(z4.phase(), -1.5707963267948966)"
   ]
  },
  {
   "cell_type": "code",
   "execution_count": 16,
   "metadata": {
    "deletable": false,
    "editable": false,
    "nbgrader": {
     "cell_type": "code",
     "checksum": "9c7c5728e306aa58b0496cf9d86124a3",
     "grade": true,
     "grade_id": "cell-59a0a33eecdadc04",
     "locked": true,
     "points": 0.5,
     "schema_version": 3,
     "solution": false,
     "task": false
    }
   },
   "outputs": [],
   "source": [
    "# AUTOGRADING POLAR COORDINATES\n",
    "np.testing.assert_almost_equal(z1.polar(), (2.23606797749979, 1.1071487177940904))\n",
    "np.testing.assert_almost_equal(z2.polar(), (3.1622776601683795, -0.3217505543966422))"
   ]
  },
  {
   "cell_type": "markdown",
   "metadata": {
    "deletable": false,
    "editable": false,
    "nbgrader": {
     "cell_type": "markdown",
     "checksum": "e9e187f054268610245e5ec9671a5979",
     "grade": false,
     "grade_id": "cell-e4c76e9517ec843f",
     "locked": true,
     "schema_version": 3,
     "solution": false,
     "task": false
    }
   },
   "source": [
    "## Problem 2: Determinant of complex-valued matrix (1 point)\n",
    "\n",
    "Python already contains some built-in functionality to define complex numbers by adding the letter 'j'. The letter 'j' is used to denote the imaginary unit, instead of 'i', because Python follows engineering, where 'i' denotes the electric current. So one could define $2 + 3i$ in Python as `2 + 3j`. You can also use `complex(2,3)`, note the lowercase though!\n",
    "\n",
    "Problem: Compute the determinant of the following matrix:\n",
    "$$\\begin{bmatrix} 3) & (1-i) & (i) & (4 \\\\\n",
    "3) & (1) & (1 - 2i) & (4 + 7i \\\\\n",
    "6i) & (2 + 2i) & (-2) & (3i \\\\\n",
    "-3) & (-1 + i) & (1) & (3 - 4i\\end{bmatrix},$$\n",
    "and assign it to the variable `D`. "
   ]
  },
  {
   "cell_type": "code",
   "execution_count": 17,
   "metadata": {
    "deletable": false,
    "nbgrader": {
     "cell_type": "code",
     "checksum": "d107d71d3ea9fd003704691803a52fc4",
     "grade": false,
     "grade_id": "cell-aca7aaf0a04300b7",
     "locked": false,
     "schema_version": 3,
     "solution": true,
     "task": false
    }
   },
   "outputs": [],
   "source": [
    "import numpy as np\n",
    "import numpy.linalg as la\n",
    "import cmath\n",
    "\n",
    "# YOUR CODE HERE\n",
    "A=np.array([[3,1-1j,1j,4 ],\n",
    "[3,1,1 - 2j,4 + 7j ],\n",
    "[6j,2 + 2j,-2,3j],\n",
    "[-3,-1 + 1j,1,3 - 4j]],dtype=complex)\n",
    "\n",
    "D=la.det(A)"
   ]
  },
  {
   "cell_type": "code",
   "execution_count": 18,
   "metadata": {
    "deletable": false,
    "editable": false,
    "nbgrader": {
     "cell_type": "code",
     "checksum": "ee7c1f1c4a4f045ceee8c8855046b5d0",
     "grade": true,
     "grade_id": "cell-e9f577017cb5f023",
     "locked": true,
     "points": 1,
     "schema_version": 3,
     "solution": false,
     "task": false
    }
   },
   "outputs": [],
   "source": [
    "assert D == -15 - 15j"
   ]
  },
  {
   "cell_type": "markdown",
   "metadata": {},
   "source": [
    "## Mandelbrot Set\n",
    "\n",
    "The [Mandelbrot Set](https://en.wikipedia.org/wiki/Mandelbrot_set) is a well known and beautiful fractal. The Mandelbrot set broods in silent complexity at the center of the complex plane. When a certain operation is applied repeatedly to the numbers (see this operation below), the ones outside the set flee to infinity, whereas the numbers inside remain to drift or dance about. Close to the boundary minutely choreographed wanderings mark the onset of the instability. You should be astonished by its variety, complexity and strange beauty arising from the application of one simple rule.\n",
    "\n",
    "The basic idea behind the Mandelbrot set is that we represent each pixel in an image by a complex number $c = x + yi$. Now we will check for each point $c$ in the plane what happens if we keep iterating the computation\n",
    "\n",
    "$$z_{n+1} = z_n^2 + c,$$\n",
    "with $z_0 = 0$ and $c$ the points in the plane we are looking at.\n",
    "\n",
    "Two different things can happen. As the number of iterations advances, either $|z|$ diverges and tends to infinity, or it remains bounded. The Mandelbrot set is the collection of those points $c$ such that the orbit of $z = 0$ remains bounded under iteration of our quadratic map $z \\mapsto z^2 + c$. Since we cannot let our computer iterate an infinite number of times, typically you put a bound on how many times you do this calculation. Moreover, we will keep track of how fast $|z|$ goes to infinity, by checking how many steps it takes until $|z| > 2$. If $|z| > 2$, it so happens that $c$ is certainly not part of the Mandelbrot set. \n",
    "\n",
    "## Problem 3: Mandelbrot iterations (2 points)\n",
    "\n",
    "Implement the function `mandelbrot_iterations` below which computes the number of iterations needed for the recurrence $z_{n+1} = z_n^2 + c$ with $z_0 = 0$ to reach a value $z$ such that $|z| > 2$, or until the maximum number of iterations is reached. Use the built-in `complex` numbers, instead of our own class `Complex`. \n",
    "*Hint: to speed up your computations, instead of checking if $|z| > 2$, it's computationally easier to check $|z|^2 = Re(z)^2 + Im(z)^2 > 4$, because calculating a square root is computationally complex.*"
   ]
  },
  {
   "cell_type": "code",
   "execution_count": 19,
   "metadata": {
    "deletable": false,
    "nbgrader": {
     "cell_type": "code",
     "checksum": "b93b3afb52e8fc1253e2ce94b50c4561",
     "grade": false,
     "grade_id": "cell-622829391040e617",
     "locked": false,
     "schema_version": 3,
     "solution": true,
     "task": false
    }
   },
   "outputs": [],
   "source": [
    "def mandelbrot_iterations(c, max_iterations):\n",
    "    \"\"\"\n",
    "    Return the number of iterations needed to reach a modulus strictly greater than 2. \n",
    "    If the number of iterations is greater than max_iterations, return max_iterations.\n",
    "    \n",
    "    Parameters\n",
    "    ----------\n",
    "        c (complex): Parameter of the formula z_{n+1} = z_n^2 + c\n",
    "        max_iterations (int): Upper bound for the number of iterations performed.\n",
    "            \n",
    "    Returns\n",
    "    -------\n",
    "        iteration (int): The number of iterations required to determine if the corresponding\n",
    "            point is not the Mandelbrot set. \n",
    "    \n",
    "    \"\"\"\n",
    "    \n",
    "    z = complex(0,0)\n",
    "    iteration = 0\n",
    "    \n",
    "    # YOUR CODE HERE\n",
    "    while (z.real**2+z.imag**2<=4) & (iteration<max_iterations):\n",
    "        z=z**2+c\n",
    "        iteration+=1\n",
    "\n",
    "    return(iteration)"
   ]
  },
  {
   "cell_type": "code",
   "execution_count": 20,
   "metadata": {},
   "outputs": [],
   "source": [
    "# You can use this code cell to play around with your code to make sure\n",
    "# it does what it is intended to do, i.e. to debug your code. \n"
   ]
  },
  {
   "cell_type": "code",
   "execution_count": 21,
   "metadata": {},
   "outputs": [
    {
     "name": "stdout",
     "output_type": "stream",
     "text": [
      "For c1 = 0 it took 100 iterations\n",
      "For c2 = 0.5 - 0.5i it took 5 iterations\n",
      "For c2 = 3 it took 1 iterations\n"
     ]
    }
   ],
   "source": [
    "# Test cases\n",
    "c1 = 0 + 0j\n",
    "c2 = 0.5 - 0.5j\n",
    "c3 = 3\n",
    "\n",
    "n1 = mandelbrot_iterations(c1, 100)\n",
    "n2 = mandelbrot_iterations(c2, 100)\n",
    "n3 = mandelbrot_iterations(c3, 100)\n",
    "\n",
    "print(\"For c1 = 0 it took\", n1, \"iterations\")\n",
    "print(\"For c2 = 0.5 - 0.5i it took\", n2, \"iterations\")\n",
    "print(\"For c2 = 3 it took\", n3, \"iterations\")"
   ]
  },
  {
   "cell_type": "markdown",
   "metadata": {
    "deletable": false,
    "editable": false,
    "nbgrader": {
     "cell_type": "markdown",
     "checksum": "d5973ae698f0c7a2f9a3ae17e580bffd",
     "grade": false,
     "grade_id": "cell-cf1882dcd0154549",
     "locked": true,
     "schema_version": 3,
     "solution": false,
     "task": false
    }
   },
   "source": [
    "Expected output:\n",
    "\n",
    "    For c1 = 0 it took 100 iterations\n",
    "    For c2 = 0.5 - 0.5i it took 5 iterations\n",
    "    For c2 = 3 it took 1 iterations"
   ]
  },
  {
   "cell_type": "code",
   "execution_count": 22,
   "metadata": {
    "deletable": false,
    "editable": false,
    "nbgrader": {
     "cell_type": "code",
     "checksum": "7553a3972323a2bdc61ab34ec2a7f947",
     "grade": true,
     "grade_id": "cell-c5936d69ea5a7098",
     "locked": true,
     "points": 2,
     "schema_version": 3,
     "solution": false,
     "task": false
    }
   },
   "outputs": [],
   "source": [
    "# AUTOGRADING\n",
    "c1 = 0 + 0j\n",
    "c2 = 0.5 - 0.5j\n",
    "c3 = 3\n",
    "\n",
    "n1 = mandelbrot_iterations(c1, 100)\n",
    "n2 = mandelbrot_iterations(c2, 100)\n",
    "n3 = mandelbrot_iterations(c3, 100)\n",
    "\n",
    "assert n1 == 100\n",
    "assert n2 == 5\n",
    "assert n3 == 1"
   ]
  },
  {
   "cell_type": "markdown",
   "metadata": {
    "deletable": false,
    "editable": false,
    "nbgrader": {
     "cell_type": "markdown",
     "checksum": "d0751aef32ac49dc5903e0a8dcf45985",
     "grade": false,
     "grade_id": "cell-af4686b99d8cea95",
     "locked": true,
     "schema_version": 3,
     "solution": false,
     "task": false
    }
   },
   "source": [
    "## Problem 4: Mandelbrot image (1 point)\n",
    "\n",
    "Implement the function `mandelbrot_image`. "
   ]
  },
  {
   "cell_type": "code",
   "execution_count": 23,
   "metadata": {
    "deletable": false,
    "nbgrader": {
     "cell_type": "code",
     "checksum": "a4cbf9edd116fa12da8e0a831419d142",
     "grade": false,
     "grade_id": "cell-f6705f8236bf1330",
     "locked": false,
     "schema_version": 3,
     "solution": true,
     "task": false
    }
   },
   "outputs": [],
   "source": [
    "import numpy as np\n",
    "\n",
    "def mandelbrot_image(height, width, c1, c2, max_iterations):\n",
    "    \"\"\"\n",
    "    Computea an array of shape (height, width) containing the \n",
    "    number of mandelbrot iterations for equally spaced complex number in a \n",
    "    rectangle whose top left corner is represented by the complex number c1\n",
    "    and whose bottom right corner is represeneted by the complex number c2.\n",
    "    \n",
    "    Parameters\n",
    "    ----------\n",
    "        height (int): the vertical number of pixels\n",
    "        width (int): the horizontal number of pixels \n",
    "        c1 (complex): complex number representing top left corner\n",
    "        c2 (complex): complex number representing bottom right corner\n",
    "        max_iterations (int): upper bound for the number of iterations performed.\n",
    "    \n",
    "    \n",
    "    Returns\n",
    "    -------\n",
    "        mandelbrot_array (ndarray): array of shape (height, width) containing at \n",
    "            entry [i,j] the number of mandelbrot iterations for the complex number\n",
    "            c with c.real = c1.real - j * (c1.real - c2.real) / (width - 1)\n",
    "            and c.imag = c1.imag - i * (c1.imag - c2.imag) / (height - 1). \n",
    "            So the entry at [0,0] corresponds to mandelbrot_iterations(c1, max_iterations)\n",
    "            and at [height-1, width-1] is mandelbrot_iterations(c2, max_iterations).\n",
    "        \n",
    "    \"\"\"\n",
    "    \n",
    "    mandelbrot_array = np.zeros((height, width))\n",
    "    \n",
    "    # YOUR CODE HERE\n",
    "    for i in range(height):\n",
    "        for j in range(width):\n",
    "            c=complex(c1.real - j * (c1.real - c2.real) / (width - 1),c1.imag - i * (c1.imag - c2.imag) / (height - 1))\n",
    "            mandelbrot_array[i,j]=mandelbrot_iterations(c,max_iterations)\n",
    "        \n",
    "    return(mandelbrot_array)"
   ]
  },
  {
   "cell_type": "code",
   "execution_count": 24,
   "metadata": {},
   "outputs": [
    {
     "data": {
      "text/plain": [
       "<matplotlib.image.AxesImage at 0x7fdfdcf52e50>"
      ]
     },
     "execution_count": 24,
     "metadata": {},
     "output_type": "execute_result"
    },
    {
     "data": {
      "image/png": "[encoded data removed]",
      "text/plain": [
       "<Figure size 864x576 with 1 Axes>"
      ]
     },
     "metadata": {
      "needs_background": "light"
     },
     "output_type": "display_data"
    }
   ],
   "source": [
    "# Quick rendering to check your code.\n",
    "import matplotlib.pyplot as plt\n",
    "x = mandelbrot_image(200, 300, complex(-2, 1), complex(1, -1), 100)\n",
    "plt.rcParams[\"figure.figsize\"]=12,8\n",
    "plt.imshow(x, cmap=\"magma\")"
   ]
  },
  {
   "cell_type": "code",
   "execution_count": 25,
   "metadata": {
    "deletable": false,
    "editable": false,
    "nbgrader": {
     "cell_type": "code",
     "checksum": "dbe1b3467abce2c62ae0b789310b49dc",
     "grade": true,
     "grade_id": "cell-0a806f6656d77685",
     "locked": true,
     "points": 1,
     "schema_version": 3,
     "solution": false,
     "task": false
    }
   },
   "outputs": [],
   "source": [
    "# AUTOGRADING\n",
    "x = mandelbrot_image(200, 300, complex(-2, 1), complex(1, -1), 50)\n",
    "assert np.allclose(x[35:40, 140:145], np.array([[13, 17, 28, 26, 40],\n",
    "                                                [13, 17, 24, 50, 31],\n",
    "                                                [19, 37, 36, 22, 34],\n",
    "                                                [27, 21, 17, 19, 30],\n",
    "                                                [15, 15, 15, 26, 28]]))"
   ]
  }
 ],
 "metadata": {
  "kernelspec": {
   "display_name": "Python 3.9.12 ('base')",
   "language": "python",
   "name": "python3"
  },
  "language_info": {
   "codemirror_mode": {
    "name": "ipython",
    "version": 3
   },
   "file_extension": ".py",
   "mimetype": "text/x-python",
   "name": "python",
   "nbconvert_exporter": "python",
   "pygments_lexer": "ipython3",
   "version": "3.9.12"
  },
  "vscode": {
   "interpreter": {
    "hash": "b68ca19c0df0760c1787e20c3f0dd1e5f78c535cd246ff2eb4732394cfca7b12"
   }
  }
 },
 "nbformat": 4,
 "nbformat_minor": 4
}
